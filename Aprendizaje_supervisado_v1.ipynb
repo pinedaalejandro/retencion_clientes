{
 "cells": [
  {
   "cell_type": "markdown",
   "id": "1123845c",
   "metadata": {},
   "source": [
    "# Introducción\n",
    "## Descripción\n",
    "Los clientes de Beta Bank se están yendo, cada mes, poco a poco. Los banqueros descubrieron que es más barato salvar a los clientes existentes que atraer nuevos.\n",
    "## Objetivo\n",
    "Necesitamos predecir si un cliente dejará el banco pronto. Tú tienes los datos sobre el comportamiento pasado de los clientes y la terminación de contratos con el banco.\n",
    "## Tabla de contenido\n",
    "- Introducción\n",
    "- Preprocesamiento de la información\n",
    "- Modelo de clasificación: Sección donde se trabaja de manera detallada tanto clases desbalanceadas como balanceadas, evaluación de calidad del modelo.\n",
    "- Evaluación del modelo bajo el enfoque de \"Ajuste de peso de clases\": Creación y ajuste del modelo haciendo uso del enfoque con mejor desempeño según la evaluación de calidad.\n",
    "- Conclusiones\n",
    "\n",
    "# Preprocesamiento de los datos\n",
    "Comenzaremos con la importanción y estudio de los datos proporcionados en el archivo `Churn.csv` con la intención de preparar los datos para posteriormente hacer uso de los mismos."
   ]
  },
  {
   "cell_type": "code",
   "execution_count": 1,
   "id": "3bc211e3",
   "metadata": {},
   "outputs": [],
   "source": [
    "# Importando librerias\n",
    "import pandas as pd\n",
    "import numpy as np\n",
    "import re\n",
    "import matplotlib.pyplot as plt\n",
    "from sklearn.model_selection import train_test_split\n",
    "from sklearn.preprocessing import LabelEncoder, OneHotEncoder\n",
    "from sklearn.ensemble import RandomForestClassifier\n",
    "from sklearn.tree import DecisionTreeClassifier\n",
    "from sklearn.linear_model import LogisticRegression\n",
    "from sklearn.metrics import recall_score, precision_score, f1_score, roc_curve, roc_auc_score, confusion_matrix\n",
    "from sklearn.utils import shuffle"
   ]
  },
  {
   "cell_type": "code",
   "execution_count": 2,
   "id": "4e7f1936",
   "metadata": {},
   "outputs": [
    {
     "data": {
      "text/html": [
       "<div>\n",
       "<style scoped>\n",
       "    .dataframe tbody tr th:only-of-type {\n",
       "        vertical-align: middle;\n",
       "    }\n",
       "\n",
       "    .dataframe tbody tr th {\n",
       "        vertical-align: top;\n",
       "    }\n",
       "\n",
       "    .dataframe thead th {\n",
       "        text-align: right;\n",
       "    }\n",
       "</style>\n",
       "<table border=\"1\" class=\"dataframe\">\n",
       "  <thead>\n",
       "    <tr style=\"text-align: right;\">\n",
       "      <th></th>\n",
       "      <th>RowNumber</th>\n",
       "      <th>CustomerId</th>\n",
       "      <th>Surname</th>\n",
       "      <th>CreditScore</th>\n",
       "      <th>Geography</th>\n",
       "      <th>Gender</th>\n",
       "      <th>Age</th>\n",
       "      <th>Tenure</th>\n",
       "      <th>Balance</th>\n",
       "      <th>NumOfProducts</th>\n",
       "      <th>HasCrCard</th>\n",
       "      <th>IsActiveMember</th>\n",
       "      <th>EstimatedSalary</th>\n",
       "      <th>Exited</th>\n",
       "    </tr>\n",
       "  </thead>\n",
       "  <tbody>\n",
       "    <tr>\n",
       "      <th>0</th>\n",
       "      <td>1</td>\n",
       "      <td>15634602</td>\n",
       "      <td>Hargrave</td>\n",
       "      <td>619</td>\n",
       "      <td>France</td>\n",
       "      <td>Female</td>\n",
       "      <td>42</td>\n",
       "      <td>2.0</td>\n",
       "      <td>0.00</td>\n",
       "      <td>1</td>\n",
       "      <td>1</td>\n",
       "      <td>1</td>\n",
       "      <td>101348.88</td>\n",
       "      <td>1</td>\n",
       "    </tr>\n",
       "    <tr>\n",
       "      <th>1</th>\n",
       "      <td>2</td>\n",
       "      <td>15647311</td>\n",
       "      <td>Hill</td>\n",
       "      <td>608</td>\n",
       "      <td>Spain</td>\n",
       "      <td>Female</td>\n",
       "      <td>41</td>\n",
       "      <td>1.0</td>\n",
       "      <td>83807.86</td>\n",
       "      <td>1</td>\n",
       "      <td>0</td>\n",
       "      <td>1</td>\n",
       "      <td>112542.58</td>\n",
       "      <td>0</td>\n",
       "    </tr>\n",
       "    <tr>\n",
       "      <th>2</th>\n",
       "      <td>3</td>\n",
       "      <td>15619304</td>\n",
       "      <td>Onio</td>\n",
       "      <td>502</td>\n",
       "      <td>France</td>\n",
       "      <td>Female</td>\n",
       "      <td>42</td>\n",
       "      <td>8.0</td>\n",
       "      <td>159660.80</td>\n",
       "      <td>3</td>\n",
       "      <td>1</td>\n",
       "      <td>0</td>\n",
       "      <td>113931.57</td>\n",
       "      <td>1</td>\n",
       "    </tr>\n",
       "    <tr>\n",
       "      <th>3</th>\n",
       "      <td>4</td>\n",
       "      <td>15701354</td>\n",
       "      <td>Boni</td>\n",
       "      <td>699</td>\n",
       "      <td>France</td>\n",
       "      <td>Female</td>\n",
       "      <td>39</td>\n",
       "      <td>1.0</td>\n",
       "      <td>0.00</td>\n",
       "      <td>2</td>\n",
       "      <td>0</td>\n",
       "      <td>0</td>\n",
       "      <td>93826.63</td>\n",
       "      <td>0</td>\n",
       "    </tr>\n",
       "    <tr>\n",
       "      <th>4</th>\n",
       "      <td>5</td>\n",
       "      <td>15737888</td>\n",
       "      <td>Mitchell</td>\n",
       "      <td>850</td>\n",
       "      <td>Spain</td>\n",
       "      <td>Female</td>\n",
       "      <td>43</td>\n",
       "      <td>2.0</td>\n",
       "      <td>125510.82</td>\n",
       "      <td>1</td>\n",
       "      <td>1</td>\n",
       "      <td>1</td>\n",
       "      <td>79084.10</td>\n",
       "      <td>0</td>\n",
       "    </tr>\n",
       "    <tr>\n",
       "      <th>5</th>\n",
       "      <td>6</td>\n",
       "      <td>15574012</td>\n",
       "      <td>Chu</td>\n",
       "      <td>645</td>\n",
       "      <td>Spain</td>\n",
       "      <td>Male</td>\n",
       "      <td>44</td>\n",
       "      <td>8.0</td>\n",
       "      <td>113755.78</td>\n",
       "      <td>2</td>\n",
       "      <td>1</td>\n",
       "      <td>0</td>\n",
       "      <td>149756.71</td>\n",
       "      <td>1</td>\n",
       "    </tr>\n",
       "    <tr>\n",
       "      <th>6</th>\n",
       "      <td>7</td>\n",
       "      <td>15592531</td>\n",
       "      <td>Bartlett</td>\n",
       "      <td>822</td>\n",
       "      <td>France</td>\n",
       "      <td>Male</td>\n",
       "      <td>50</td>\n",
       "      <td>7.0</td>\n",
       "      <td>0.00</td>\n",
       "      <td>2</td>\n",
       "      <td>1</td>\n",
       "      <td>1</td>\n",
       "      <td>10062.80</td>\n",
       "      <td>0</td>\n",
       "    </tr>\n",
       "    <tr>\n",
       "      <th>7</th>\n",
       "      <td>8</td>\n",
       "      <td>15656148</td>\n",
       "      <td>Obinna</td>\n",
       "      <td>376</td>\n",
       "      <td>Germany</td>\n",
       "      <td>Female</td>\n",
       "      <td>29</td>\n",
       "      <td>4.0</td>\n",
       "      <td>115046.74</td>\n",
       "      <td>4</td>\n",
       "      <td>1</td>\n",
       "      <td>0</td>\n",
       "      <td>119346.88</td>\n",
       "      <td>1</td>\n",
       "    </tr>\n",
       "    <tr>\n",
       "      <th>8</th>\n",
       "      <td>9</td>\n",
       "      <td>15792365</td>\n",
       "      <td>He</td>\n",
       "      <td>501</td>\n",
       "      <td>France</td>\n",
       "      <td>Male</td>\n",
       "      <td>44</td>\n",
       "      <td>4.0</td>\n",
       "      <td>142051.07</td>\n",
       "      <td>2</td>\n",
       "      <td>0</td>\n",
       "      <td>1</td>\n",
       "      <td>74940.50</td>\n",
       "      <td>0</td>\n",
       "    </tr>\n",
       "    <tr>\n",
       "      <th>9</th>\n",
       "      <td>10</td>\n",
       "      <td>15592389</td>\n",
       "      <td>H?</td>\n",
       "      <td>684</td>\n",
       "      <td>France</td>\n",
       "      <td>Male</td>\n",
       "      <td>27</td>\n",
       "      <td>2.0</td>\n",
       "      <td>134603.88</td>\n",
       "      <td>1</td>\n",
       "      <td>1</td>\n",
       "      <td>1</td>\n",
       "      <td>71725.73</td>\n",
       "      <td>0</td>\n",
       "    </tr>\n",
       "  </tbody>\n",
       "</table>\n",
       "</div>"
      ],
      "text/plain": [
       "   RowNumber  CustomerId   Surname  CreditScore Geography  Gender  Age  \\\n",
       "0          1    15634602  Hargrave          619    France  Female   42   \n",
       "1          2    15647311      Hill          608     Spain  Female   41   \n",
       "2          3    15619304      Onio          502    France  Female   42   \n",
       "3          4    15701354      Boni          699    France  Female   39   \n",
       "4          5    15737888  Mitchell          850     Spain  Female   43   \n",
       "5          6    15574012       Chu          645     Spain    Male   44   \n",
       "6          7    15592531  Bartlett          822    France    Male   50   \n",
       "7          8    15656148    Obinna          376   Germany  Female   29   \n",
       "8          9    15792365        He          501    France    Male   44   \n",
       "9         10    15592389        H?          684    France    Male   27   \n",
       "\n",
       "   Tenure    Balance  NumOfProducts  HasCrCard  IsActiveMember  \\\n",
       "0     2.0       0.00              1          1               1   \n",
       "1     1.0   83807.86              1          0               1   \n",
       "2     8.0  159660.80              3          1               0   \n",
       "3     1.0       0.00              2          0               0   \n",
       "4     2.0  125510.82              1          1               1   \n",
       "5     8.0  113755.78              2          1               0   \n",
       "6     7.0       0.00              2          1               1   \n",
       "7     4.0  115046.74              4          1               0   \n",
       "8     4.0  142051.07              2          0               1   \n",
       "9     2.0  134603.88              1          1               1   \n",
       "\n",
       "   EstimatedSalary  Exited  \n",
       "0        101348.88       1  \n",
       "1        112542.58       0  \n",
       "2        113931.57       1  \n",
       "3         93826.63       0  \n",
       "4         79084.10       0  \n",
       "5        149756.71       1  \n",
       "6         10062.80       0  \n",
       "7        119346.88       1  \n",
       "8         74940.50       0  \n",
       "9         71725.73       0  "
      ]
     },
     "execution_count": 2,
     "metadata": {},
     "output_type": "execute_result"
    }
   ],
   "source": [
    "# Importando y validando la información de \"Churn.csv\"\n",
    "data = pd.read_csv('datasets/Churn.csv')\n",
    "data.head(10)"
   ]
  },
  {
   "cell_type": "code",
   "execution_count": 3,
   "id": "2156e15a",
   "metadata": {},
   "outputs": [
    {
     "name": "stdout",
     "output_type": "stream",
     "text": [
      "<class 'pandas.core.frame.DataFrame'>\n",
      "RangeIndex: 10000 entries, 0 to 9999\n",
      "Data columns (total 14 columns):\n",
      " #   Column           Non-Null Count  Dtype  \n",
      "---  ------           --------------  -----  \n",
      " 0   RowNumber        10000 non-null  int64  \n",
      " 1   CustomerId       10000 non-null  int64  \n",
      " 2   Surname          10000 non-null  object \n",
      " 3   CreditScore      10000 non-null  int64  \n",
      " 4   Geography        10000 non-null  object \n",
      " 5   Gender           10000 non-null  object \n",
      " 6   Age              10000 non-null  int64  \n",
      " 7   Tenure           9091 non-null   float64\n",
      " 8   Balance          10000 non-null  float64\n",
      " 9   NumOfProducts    10000 non-null  int64  \n",
      " 10  HasCrCard        10000 non-null  int64  \n",
      " 11  IsActiveMember   10000 non-null  int64  \n",
      " 12  EstimatedSalary  10000 non-null  float64\n",
      " 13  Exited           10000 non-null  int64  \n",
      "dtypes: float64(3), int64(8), object(3)\n",
      "memory usage: 1.1+ MB\n"
     ]
    }
   ],
   "source": [
    "# Verificando información contenida en \"data\"\n",
    "data.info()"
   ]
  },
  {
   "cell_type": "markdown",
   "id": "bf881bff",
   "metadata": {},
   "source": [
    "De acuerdo con lo obtenido de información podemos destacar algunas cuestiones que hay que corregir antes de poder utilizar `data` y son las siguientes:\n",
    "- Las columnas están tituladas con letra capital, por buenas prácticas, estas deben estar en minusculas.\n",
    "- Nos encontramos con valores nulos en la columna `Tenure`, en total `909` registros.\n",
    "- En la columna `Surname` podemos observar que dentro de los primeros 10 registros, aparece uno con caracteres especiales (`?`) por lo que es importante verificar esta posibilidad en todos los registros.\n",
    "- Dejaremos abierta la posibilidad de hacer cambio de tipo de datos para alguna de las columnas.\n",
    "- Hay columnas que no nos aportan información que se notan a simple vista, tal es el caso de `RowNumber`, `CustomerId` (y posiblemente `Surname`).\n",
    "\n",
    "Comenzaremos por el renombramiento de las columnas para que este homologadas y eliminación de la columna que no nos aporta información."
   ]
  },
  {
   "cell_type": "code",
   "execution_count": 4,
   "id": "14bd89a7",
   "metadata": {},
   "outputs": [
    {
     "data": {
      "text/html": [
       "<div>\n",
       "<style scoped>\n",
       "    .dataframe tbody tr th:only-of-type {\n",
       "        vertical-align: middle;\n",
       "    }\n",
       "\n",
       "    .dataframe tbody tr th {\n",
       "        vertical-align: top;\n",
       "    }\n",
       "\n",
       "    .dataframe thead th {\n",
       "        text-align: right;\n",
       "    }\n",
       "</style>\n",
       "<table border=\"1\" class=\"dataframe\">\n",
       "  <thead>\n",
       "    <tr style=\"text-align: right;\">\n",
       "      <th></th>\n",
       "      <th>surname</th>\n",
       "      <th>creditScore</th>\n",
       "      <th>geography</th>\n",
       "      <th>gender</th>\n",
       "      <th>age</th>\n",
       "      <th>tenure</th>\n",
       "      <th>balance</th>\n",
       "      <th>numOfProducts</th>\n",
       "      <th>hasCrCard</th>\n",
       "      <th>isActiveMember</th>\n",
       "      <th>estimatedSalary</th>\n",
       "      <th>exited</th>\n",
       "    </tr>\n",
       "  </thead>\n",
       "  <tbody>\n",
       "    <tr>\n",
       "      <th>0</th>\n",
       "      <td>Hargrave</td>\n",
       "      <td>619</td>\n",
       "      <td>France</td>\n",
       "      <td>Female</td>\n",
       "      <td>42</td>\n",
       "      <td>2.0</td>\n",
       "      <td>0.00</td>\n",
       "      <td>1</td>\n",
       "      <td>1</td>\n",
       "      <td>1</td>\n",
       "      <td>101348.88</td>\n",
       "      <td>1</td>\n",
       "    </tr>\n",
       "    <tr>\n",
       "      <th>1</th>\n",
       "      <td>Hill</td>\n",
       "      <td>608</td>\n",
       "      <td>Spain</td>\n",
       "      <td>Female</td>\n",
       "      <td>41</td>\n",
       "      <td>1.0</td>\n",
       "      <td>83807.86</td>\n",
       "      <td>1</td>\n",
       "      <td>0</td>\n",
       "      <td>1</td>\n",
       "      <td>112542.58</td>\n",
       "      <td>0</td>\n",
       "    </tr>\n",
       "    <tr>\n",
       "      <th>2</th>\n",
       "      <td>Onio</td>\n",
       "      <td>502</td>\n",
       "      <td>France</td>\n",
       "      <td>Female</td>\n",
       "      <td>42</td>\n",
       "      <td>8.0</td>\n",
       "      <td>159660.80</td>\n",
       "      <td>3</td>\n",
       "      <td>1</td>\n",
       "      <td>0</td>\n",
       "      <td>113931.57</td>\n",
       "      <td>1</td>\n",
       "    </tr>\n",
       "    <tr>\n",
       "      <th>3</th>\n",
       "      <td>Boni</td>\n",
       "      <td>699</td>\n",
       "      <td>France</td>\n",
       "      <td>Female</td>\n",
       "      <td>39</td>\n",
       "      <td>1.0</td>\n",
       "      <td>0.00</td>\n",
       "      <td>2</td>\n",
       "      <td>0</td>\n",
       "      <td>0</td>\n",
       "      <td>93826.63</td>\n",
       "      <td>0</td>\n",
       "    </tr>\n",
       "    <tr>\n",
       "      <th>4</th>\n",
       "      <td>Mitchell</td>\n",
       "      <td>850</td>\n",
       "      <td>Spain</td>\n",
       "      <td>Female</td>\n",
       "      <td>43</td>\n",
       "      <td>2.0</td>\n",
       "      <td>125510.82</td>\n",
       "      <td>1</td>\n",
       "      <td>1</td>\n",
       "      <td>1</td>\n",
       "      <td>79084.10</td>\n",
       "      <td>0</td>\n",
       "    </tr>\n",
       "  </tbody>\n",
       "</table>\n",
       "</div>"
      ],
      "text/plain": [
       "    surname  creditScore geography  gender  age  tenure    balance  \\\n",
       "0  Hargrave          619    France  Female   42     2.0       0.00   \n",
       "1      Hill          608     Spain  Female   41     1.0   83807.86   \n",
       "2      Onio          502    France  Female   42     8.0  159660.80   \n",
       "3      Boni          699    France  Female   39     1.0       0.00   \n",
       "4  Mitchell          850     Spain  Female   43     2.0  125510.82   \n",
       "\n",
       "   numOfProducts  hasCrCard  isActiveMember  estimatedSalary  exited  \n",
       "0              1          1               1        101348.88       1  \n",
       "1              1          0               1        112542.58       0  \n",
       "2              3          1               0        113931.57       1  \n",
       "3              2          0               0         93826.63       0  \n",
       "4              1          1               1         79084.10       0  "
      ]
     },
     "execution_count": 4,
     "metadata": {},
     "output_type": "execute_result"
    }
   ],
   "source": [
    "# Ajuste de nombre de columnas\n",
    "data.drop(['RowNumber','CustomerId'],axis=1,inplace=True)\n",
    "data.rename(columns={'Surname':'surname',\n",
    "                    'CreditScore':'creditScore',\n",
    "                    'Geography':'geography',\n",
    "                    'Gender':'gender',\n",
    "                    'Age':'age',\n",
    "                    'Tenure':'tenure',\n",
    "                    'Balance':'balance',\n",
    "                    'NumOfProducts':'numOfProducts',\n",
    "                    'HasCrCard':'hasCrCard',\n",
    "                    'IsActiveMember':'isActiveMember',\n",
    "                    'EstimatedSalary':'estimatedSalary',\n",
    "                    'Exited':'exited'},inplace=True)\n",
    "data.head()"
   ]
  },
  {
   "cell_type": "markdown",
   "id": "ef9de57f",
   "metadata": {},
   "source": [
    "Con la intención de no trabajar con registros duplicados, procederemos con esta validación evitando procesamiento inecesario."
   ]
  },
  {
   "cell_type": "code",
   "execution_count": 5,
   "id": "1e5897c4",
   "metadata": {},
   "outputs": [
    {
     "data": {
      "text/plain": [
       "0"
      ]
     },
     "execution_count": 5,
     "metadata": {},
     "output_type": "execute_result"
    }
   ],
   "source": [
    "# Encontrando registros duplicados\n",
    "data.duplicated().sum()"
   ]
  },
  {
   "cell_type": "markdown",
   "id": "16f4a065",
   "metadata": {},
   "source": [
    "De acuerdo con el resultado, no contamos con registros duplicados. Por tal motivo, podemos continuar con el preprocesamiento de la inforamción por lo que comenzaremos a trabajar con la columna `surname` y aquellos registros que cuentan con algún caracter especial que no sea congruente con la información proporcionada. Comenzaremos con la exploración de estos registros antes de hacer modificaciones pues de forma intuitiva, podemos mencionar que el `surname` no es un dato influyente en la permanencia o abandono del banco."
   ]
  },
  {
   "cell_type": "code",
   "execution_count": 6,
   "id": "7dfbe172",
   "metadata": {},
   "outputs": [
    {
     "data": {
      "text/plain": [
       "2932"
      ]
     },
     "execution_count": 6,
     "metadata": {},
     "output_type": "execute_result"
    }
   ],
   "source": [
    "# Encontrando la cantidad de registros únicos en la columna \"surname\"\n",
    "len(data['surname'].unique())"
   ]
  },
  {
   "cell_type": "code",
   "execution_count": 7,
   "id": "3411afcd",
   "metadata": {},
   "outputs": [
    {
     "name": "stdout",
     "output_type": "stream",
     "text": [
      "['H?', \"O'Brien\", \"T'ien\", \"T'ang\", \"T'ang\", \"T'ao\", \"Ch'ien\", \"O'Sullivan\", \"Ch'iu\", \"K'ung\", \"Ch'ien\", \"O'Donnell\", \"Ts'ai\", 'L?', \"K'ung\", \"T'ang\", 'Hs?', \"Ch'en\", 'Wentworth-Shields', \"Ts'ao\", \"Ch'ang\", \"Ch'iu\", \"Ts'ai\", \"K'ung\", \"P'an\", \"Ts'ai\", \"Ts'ui\", \"P'eng\", \"Ch'eng\", \"Ch'eng\", \"O'Loghlen\", \"T'ien\", \"Ch'en\", \"Ts'ai\", 'Y?an', \"Ch'en\", \"Ch'in\", \"Ts'ui\", \"Ch'iu\", 'L?', 'Y?an', \"Ch'iu\", \"Ts'ui\", 'Winter-Irving', 'L?', \"O'Neill\", 'Drake-Brockman', 'H?', \"Ch'iu\", \"T'an\", \"T'ao\", \"T'ang\", \"P'eng\", \"K'ung\", 'K?', \"O'Brien\", \"Ts'ai\", \"D'Albertis\", 'L?', \"P'an\", \"Ch'ien\", 'Hs?', \"T'ang\", 'H?', \"P'eng\", 'Y?', \"P'eng\", \"Ts'ao\", \"T'an\", \"O'Meara\", \"T'ien\", \"K'ung\", \"T'ao\", 'Y?', \"Ch'eng\", \"O'Toole\", 'L?', \"Ch'iu\", 'H?', \"P'an\", \"Ts'ai\", \"K'ung\", \"Ts'ui\", \"P'eng\", \"Ch'eng\", \"Ts'ui\", 'Y?an', 'H?', \"P'eng\", 'Y?', 'Hs?', 'Y?', \"Ts'ai\", \"Ch'ang\", \"Ts'ui\", 'L?', 'Hs?', \"P'eng\", \"T'ien\", \"O'Connor\", \"K'ung\", 'K?', 'Warlow-Davies', \"Ts'ai\", 'Y?', \"O'Sullivan\", 'Hs?eh', \"Ts'ai\", \"Ch'ien\", \"Ts'ai\", \"Ch'en\", \"Ch'iu\", \"P'an\", 'H?', \"Ts'ui\", \"T'ao\", \"T'ang\", 'Hs?eh', 'H?', \"T'ien\", \"O'Donnell\", 'Hs?', \"Ch'ang\", 'Hs?', 'L?', 'Hs?', \"T'ien\", 'Hughes-Jones', \"Ch'ien\", \"T'ang\", \"Ch'iu\", 'Y?', \"T'ang\", \"Ch'in\", 'Cumbrae-Stewart', \"T'ang\", \"Ch'ien\", \"Ch'en\", \"Ch'ang\", \"T'an\", \"Ts'ui\", \"Ch'ang\", \"O'Donnell\", \"T'ao\", \"Ch'ien\", \"P'eng\", \"T'ao\", \"Ch'iu\", \"Ch'ien\", 'Hs?eh', \"Ch'iu\", \"Ch'en\", 'H?', 'Hs?', \"K'ung\", \"T'an\", 'Hs?eh', 'Hs?', \"P'eng\", 'Radcliffe-Brown', 'L?', \"Ts'ui\", \"Ts'ai\", \"Ch'ang\", \"Ch'en\", \"O'Donnell\", 'Y?', 'Y?', 'Hs?', 'Parry-Okeden', \"Ch'ang\", \"Ch'iu\", \"Ts'ao\", \"Ts'ui\", \"Ch'en\", \"Ch'ang\", \"Ch'in\", 'Hs?eh', \"T'ao\", 'K?', \"O'Loughlin\", \"K'ung\", \"Ch'eng\", 'Y?', 'H?', 'Ross-Watt', \"Ts'ao\", \"Ts'ui\", 'L?', 'Fleetwood-Smith', \"Ts'ui\", \"P'an\", 'Y?', 'Y?', 'H?', \"P'an\", 'K?', 'K?', \"Ch'ang\", \"Ts'ao\", 'Hs?', \"Ch'in\", \"Ch'in\", \"P'eng\", \"Ch'in\", \"Ch'ien\", \"P'eng\", \"P'an\", \"T'ien\", \"T'ang\", 'Barclay-Harvey', \"Ch'en\", 'L?', 'Y?an', \"K'ung\", \"O'Donnell\", \"O'Brien\", 'H?', 'Y?an', 'Y?an', \"Ch'ang\", \"T'ao\", \"Ch'in\", \"Ch'ang\", \"T'ien\", \"Ch'in\", 'Barclay-Harvey', \"Ch'eng\", \"T'ien\", 'Hs?', \"T'ien\", \"T'ien\", \"Ch'eng\", 'Warlow-Davies', \"T'ao\", \"Ch'ang\", \"Ch'eng\", \"O'Brien\", \"O'Loghlin\", \"Ch'ang\", \"Ch'iu\", \"T'ien\", \"Ch'eng\", \"O'Meara\", 'Hs?eh', \"T'ien\", 'H?', 'K?', 'L?', 'Y?', 'H?', \"Ts'ai\", 'Y?an', 'H?', \"O'Callaghan\", \"Ch'ang\", \"Ts'ui\", 'H?', \"Ts'ui\", \"Ch'ang\", \"Ts'ao\", \"Ch'iu\", \"T'ien\", \"Ts'ao\", 'Hs?eh', \"Ch'iu\", 'Y?an', \"Ts'ui\", \"Ch'ien\", \"Ts'ui\", \"Ch'eng\", \"Ch'ien\", 'Winter-Irving', 'Howell-Price', 'K?', \"Ch'in\", \"Ch'ien\", 'Y?an', \"Ch'eng\", 'Hs?', 'H?', \"P'eng\", \"Ch'ang\", \"Ch'ang\", 'H?', 'Marshall-Hall', \"P'eng\", 'H?', \"T'ang\", 'Y?an', 'K?', 'Parry-Okeden', \"K'ung\", 'K?', \"T'ang\", \"Ts'ao\", 'L?', \"Ch'iu\", \"T'ien\", \"P'eng\", \"T'ao\", 'Y?an', \"Ch'eng\", 'Hs?', 'Hs?', \"Ts'ai\", \"Ch'in\", \"T'ao\", \"O'Sullivan\", \"T'an\", \"T'ien\", 'Hayes-Williams', \"P'eng\", \"Ts'ao\", \"Ch'eng\", \"T'ao\", \"Ch'iu\", \"P'an\", \"P'eng\", 'Y?an', \"Ts'ai\", \"Ts'ao\", \"Ts'ui\", 'H?', 'Y?an', \"Ts'ai\", \"Ts'ui\", 'K?', \"Ch'in\", \"K'ung\", \"Ts'ao\", 'L?', \"T'ang\", \"Ts'ao\", \"Ch'in\", 'Y?', \"O'Kane\", \"Ch'ien\", \"T'ien\", 'K?', 'L?', 'Fleetwood-Smith', \"T'ien\", \"Ts'ui\", \"Ch'en\", \"Ch'in\", \"P'eng\", \"T'ao\"]\n",
      "348\n"
     ]
    }
   ],
   "source": [
    "# Trabajando con la columna \"surname\" y los registros con caracteres especiales\n",
    "surname = []\n",
    "for s in data['surname']:\n",
    "    if len(re.findall('([^a-zA-Z ]+)',s)) != 0:\n",
    "        surname.append(s)\n",
    "print(surname)\n",
    "print(len(surname))"
   ]
  },
  {
   "cell_type": "markdown",
   "id": "fff7ef08",
   "metadata": {},
   "source": [
    "Como podemos observar, hay una cantidad considerable de `surname` que tiene caracteres especiales que afectan el dato como tal, como por ejemplo `'`, `-` o `?`. Esto, como anteriormente se menciona, de manera intuitiva no presentaría alguna relación sobre el abandono o permanencia dentro del banco.\n",
    "\n",
    "De acuerdo con lo anterior, contamos con `2932` registros únicos refiriendonos a la columna `surname` de los cuales `348` son aquellos registros que cuentan con caracteres especiales. El `apellido` de un cliente no es un registro representativo para la decisión de abandono o no de cualquier de los servicios que proporionan los bancos, por tal motivo, procederemos con la eliminación de la columna con la intención de evitar procesamiento inecesario."
   ]
  },
  {
   "cell_type": "code",
   "execution_count": 8,
   "id": "67cdbf58",
   "metadata": {},
   "outputs": [
    {
     "data": {
      "text/html": [
       "<div>\n",
       "<style scoped>\n",
       "    .dataframe tbody tr th:only-of-type {\n",
       "        vertical-align: middle;\n",
       "    }\n",
       "\n",
       "    .dataframe tbody tr th {\n",
       "        vertical-align: top;\n",
       "    }\n",
       "\n",
       "    .dataframe thead th {\n",
       "        text-align: right;\n",
       "    }\n",
       "</style>\n",
       "<table border=\"1\" class=\"dataframe\">\n",
       "  <thead>\n",
       "    <tr style=\"text-align: right;\">\n",
       "      <th></th>\n",
       "      <th>creditScore</th>\n",
       "      <th>geography</th>\n",
       "      <th>gender</th>\n",
       "      <th>age</th>\n",
       "      <th>tenure</th>\n",
       "      <th>balance</th>\n",
       "      <th>numOfProducts</th>\n",
       "      <th>hasCrCard</th>\n",
       "      <th>isActiveMember</th>\n",
       "      <th>estimatedSalary</th>\n",
       "      <th>exited</th>\n",
       "    </tr>\n",
       "  </thead>\n",
       "  <tbody>\n",
       "    <tr>\n",
       "      <th>0</th>\n",
       "      <td>619</td>\n",
       "      <td>France</td>\n",
       "      <td>Female</td>\n",
       "      <td>42</td>\n",
       "      <td>2.0</td>\n",
       "      <td>0.00</td>\n",
       "      <td>1</td>\n",
       "      <td>1</td>\n",
       "      <td>1</td>\n",
       "      <td>101348.88</td>\n",
       "      <td>1</td>\n",
       "    </tr>\n",
       "    <tr>\n",
       "      <th>1</th>\n",
       "      <td>608</td>\n",
       "      <td>Spain</td>\n",
       "      <td>Female</td>\n",
       "      <td>41</td>\n",
       "      <td>1.0</td>\n",
       "      <td>83807.86</td>\n",
       "      <td>1</td>\n",
       "      <td>0</td>\n",
       "      <td>1</td>\n",
       "      <td>112542.58</td>\n",
       "      <td>0</td>\n",
       "    </tr>\n",
       "    <tr>\n",
       "      <th>2</th>\n",
       "      <td>502</td>\n",
       "      <td>France</td>\n",
       "      <td>Female</td>\n",
       "      <td>42</td>\n",
       "      <td>8.0</td>\n",
       "      <td>159660.80</td>\n",
       "      <td>3</td>\n",
       "      <td>1</td>\n",
       "      <td>0</td>\n",
       "      <td>113931.57</td>\n",
       "      <td>1</td>\n",
       "    </tr>\n",
       "    <tr>\n",
       "      <th>3</th>\n",
       "      <td>699</td>\n",
       "      <td>France</td>\n",
       "      <td>Female</td>\n",
       "      <td>39</td>\n",
       "      <td>1.0</td>\n",
       "      <td>0.00</td>\n",
       "      <td>2</td>\n",
       "      <td>0</td>\n",
       "      <td>0</td>\n",
       "      <td>93826.63</td>\n",
       "      <td>0</td>\n",
       "    </tr>\n",
       "    <tr>\n",
       "      <th>4</th>\n",
       "      <td>850</td>\n",
       "      <td>Spain</td>\n",
       "      <td>Female</td>\n",
       "      <td>43</td>\n",
       "      <td>2.0</td>\n",
       "      <td>125510.82</td>\n",
       "      <td>1</td>\n",
       "      <td>1</td>\n",
       "      <td>1</td>\n",
       "      <td>79084.10</td>\n",
       "      <td>0</td>\n",
       "    </tr>\n",
       "    <tr>\n",
       "      <th>...</th>\n",
       "      <td>...</td>\n",
       "      <td>...</td>\n",
       "      <td>...</td>\n",
       "      <td>...</td>\n",
       "      <td>...</td>\n",
       "      <td>...</td>\n",
       "      <td>...</td>\n",
       "      <td>...</td>\n",
       "      <td>...</td>\n",
       "      <td>...</td>\n",
       "      <td>...</td>\n",
       "    </tr>\n",
       "    <tr>\n",
       "      <th>9995</th>\n",
       "      <td>771</td>\n",
       "      <td>France</td>\n",
       "      <td>Male</td>\n",
       "      <td>39</td>\n",
       "      <td>5.0</td>\n",
       "      <td>0.00</td>\n",
       "      <td>2</td>\n",
       "      <td>1</td>\n",
       "      <td>0</td>\n",
       "      <td>96270.64</td>\n",
       "      <td>0</td>\n",
       "    </tr>\n",
       "    <tr>\n",
       "      <th>9996</th>\n",
       "      <td>516</td>\n",
       "      <td>France</td>\n",
       "      <td>Male</td>\n",
       "      <td>35</td>\n",
       "      <td>10.0</td>\n",
       "      <td>57369.61</td>\n",
       "      <td>1</td>\n",
       "      <td>1</td>\n",
       "      <td>1</td>\n",
       "      <td>101699.77</td>\n",
       "      <td>0</td>\n",
       "    </tr>\n",
       "    <tr>\n",
       "      <th>9997</th>\n",
       "      <td>709</td>\n",
       "      <td>France</td>\n",
       "      <td>Female</td>\n",
       "      <td>36</td>\n",
       "      <td>7.0</td>\n",
       "      <td>0.00</td>\n",
       "      <td>1</td>\n",
       "      <td>0</td>\n",
       "      <td>1</td>\n",
       "      <td>42085.58</td>\n",
       "      <td>1</td>\n",
       "    </tr>\n",
       "    <tr>\n",
       "      <th>9998</th>\n",
       "      <td>772</td>\n",
       "      <td>Germany</td>\n",
       "      <td>Male</td>\n",
       "      <td>42</td>\n",
       "      <td>3.0</td>\n",
       "      <td>75075.31</td>\n",
       "      <td>2</td>\n",
       "      <td>1</td>\n",
       "      <td>0</td>\n",
       "      <td>92888.52</td>\n",
       "      <td>1</td>\n",
       "    </tr>\n",
       "    <tr>\n",
       "      <th>9999</th>\n",
       "      <td>792</td>\n",
       "      <td>France</td>\n",
       "      <td>Female</td>\n",
       "      <td>28</td>\n",
       "      <td>NaN</td>\n",
       "      <td>130142.79</td>\n",
       "      <td>1</td>\n",
       "      <td>1</td>\n",
       "      <td>0</td>\n",
       "      <td>38190.78</td>\n",
       "      <td>0</td>\n",
       "    </tr>\n",
       "  </tbody>\n",
       "</table>\n",
       "<p>10000 rows × 11 columns</p>\n",
       "</div>"
      ],
      "text/plain": [
       "      creditScore geography  gender  age  tenure    balance  numOfProducts  \\\n",
       "0             619    France  Female   42     2.0       0.00              1   \n",
       "1             608     Spain  Female   41     1.0   83807.86              1   \n",
       "2             502    France  Female   42     8.0  159660.80              3   \n",
       "3             699    France  Female   39     1.0       0.00              2   \n",
       "4             850     Spain  Female   43     2.0  125510.82              1   \n",
       "...           ...       ...     ...  ...     ...        ...            ...   \n",
       "9995          771    France    Male   39     5.0       0.00              2   \n",
       "9996          516    France    Male   35    10.0   57369.61              1   \n",
       "9997          709    France  Female   36     7.0       0.00              1   \n",
       "9998          772   Germany    Male   42     3.0   75075.31              2   \n",
       "9999          792    France  Female   28     NaN  130142.79              1   \n",
       "\n",
       "      hasCrCard  isActiveMember  estimatedSalary  exited  \n",
       "0             1               1        101348.88       1  \n",
       "1             0               1        112542.58       0  \n",
       "2             1               0        113931.57       1  \n",
       "3             0               0         93826.63       0  \n",
       "4             1               1         79084.10       0  \n",
       "...         ...             ...              ...     ...  \n",
       "9995          1               0         96270.64       0  \n",
       "9996          1               1        101699.77       0  \n",
       "9997          0               1         42085.58       1  \n",
       "9998          1               0         92888.52       1  \n",
       "9999          1               0         38190.78       0  \n",
       "\n",
       "[10000 rows x 11 columns]"
      ]
     },
     "execution_count": 8,
     "metadata": {},
     "output_type": "execute_result"
    }
   ],
   "source": [
    "# Eliminando la columna \"surname\"\n",
    "data.drop(['surname'],axis=1,inplace=True)\n",
    "data"
   ]
  },
  {
   "cell_type": "markdown",
   "id": "76822bf5",
   "metadata": {},
   "source": [
    "Continuaremos con los valores nulos presentes en la columna `tenure`. Procederemos con la visualización de la distribución de los valores."
   ]
  },
  {
   "cell_type": "code",
   "execution_count": 9,
   "id": "55ad32db",
   "metadata": {},
   "outputs": [
    {
     "data": {
      "text/plain": [
       "<AxesSubplot:title={'center':'Distribución de la columna \"tenure\".'}, xlabel='Años', ylabel='Cantidad'>"
      ]
     },
     "execution_count": 9,
     "metadata": {},
     "output_type": "execute_result"
    },
    {
     "data": {
      "image/png": "[encoded data removed]",
      "text/plain": [
       "<Figure size 432x288 with 1 Axes>"
      ]
     },
     "metadata": {
      "needs_background": "light"
     },
     "output_type": "display_data"
    }
   ],
   "source": [
    "# Visualización de la distribución de la columna \"tenure\"\n",
    "tenure_dist = data['tenure'].value_counts().sort_values(ascending=False)\n",
    "tenure_dist.plot(kind='bar',title='Distribución de la columna \"tenure\".',xlabel='Años',ylabel='Cantidad')"
   ]
  },
  {
   "cell_type": "markdown",
   "id": "f682cb18",
   "metadata": {},
   "source": [
    "De acuerdo con la gráfica podemos observar que en su mayoría, los valores de la columna `tenure` que están entre `1` y `9` tienen aproximadamente la misma cantidad de registros, exceptuando los valores de `10` y `0`. A continuación presentaremos la correlación de la información contenida."
   ]
  },
  {
   "cell_type": "code",
   "execution_count": 10,
   "id": "7b300079",
   "metadata": {},
   "outputs": [
    {
     "data": {
      "text/html": [
       "<div>\n",
       "<style scoped>\n",
       "    .dataframe tbody tr th:only-of-type {\n",
       "        vertical-align: middle;\n",
       "    }\n",
       "\n",
       "    .dataframe tbody tr th {\n",
       "        vertical-align: top;\n",
       "    }\n",
       "\n",
       "    .dataframe thead th {\n",
       "        text-align: right;\n",
       "    }\n",
       "</style>\n",
       "<table border=\"1\" class=\"dataframe\">\n",
       "  <thead>\n",
       "    <tr style=\"text-align: right;\">\n",
       "      <th></th>\n",
       "      <th>creditScore</th>\n",
       "      <th>age</th>\n",
       "      <th>tenure</th>\n",
       "      <th>balance</th>\n",
       "      <th>numOfProducts</th>\n",
       "      <th>hasCrCard</th>\n",
       "      <th>isActiveMember</th>\n",
       "      <th>estimatedSalary</th>\n",
       "      <th>exited</th>\n",
       "    </tr>\n",
       "  </thead>\n",
       "  <tbody>\n",
       "    <tr>\n",
       "      <th>creditScore</th>\n",
       "      <td>1.000000</td>\n",
       "      <td>-0.003965</td>\n",
       "      <td>-0.000062</td>\n",
       "      <td>0.006268</td>\n",
       "      <td>0.012238</td>\n",
       "      <td>-0.005458</td>\n",
       "      <td>0.025651</td>\n",
       "      <td>-0.001384</td>\n",
       "      <td>-0.027094</td>\n",
       "    </tr>\n",
       "    <tr>\n",
       "      <th>age</th>\n",
       "      <td>-0.003965</td>\n",
       "      <td>1.000000</td>\n",
       "      <td>-0.013134</td>\n",
       "      <td>0.028308</td>\n",
       "      <td>-0.030680</td>\n",
       "      <td>-0.011721</td>\n",
       "      <td>0.085472</td>\n",
       "      <td>-0.007201</td>\n",
       "      <td>0.285323</td>\n",
       "    </tr>\n",
       "    <tr>\n",
       "      <th>tenure</th>\n",
       "      <td>-0.000062</td>\n",
       "      <td>-0.013134</td>\n",
       "      <td>1.000000</td>\n",
       "      <td>-0.007911</td>\n",
       "      <td>0.011979</td>\n",
       "      <td>0.027232</td>\n",
       "      <td>-0.032178</td>\n",
       "      <td>0.010520</td>\n",
       "      <td>-0.016761</td>\n",
       "    </tr>\n",
       "    <tr>\n",
       "      <th>balance</th>\n",
       "      <td>0.006268</td>\n",
       "      <td>0.028308</td>\n",
       "      <td>-0.007911</td>\n",
       "      <td>1.000000</td>\n",
       "      <td>-0.304180</td>\n",
       "      <td>-0.014858</td>\n",
       "      <td>-0.010084</td>\n",
       "      <td>0.012797</td>\n",
       "      <td>0.118533</td>\n",
       "    </tr>\n",
       "    <tr>\n",
       "      <th>numOfProducts</th>\n",
       "      <td>0.012238</td>\n",
       "      <td>-0.030680</td>\n",
       "      <td>0.011979</td>\n",
       "      <td>-0.304180</td>\n",
       "      <td>1.000000</td>\n",
       "      <td>0.003183</td>\n",
       "      <td>0.009612</td>\n",
       "      <td>0.014204</td>\n",
       "      <td>-0.047820</td>\n",
       "    </tr>\n",
       "    <tr>\n",
       "      <th>hasCrCard</th>\n",
       "      <td>-0.005458</td>\n",
       "      <td>-0.011721</td>\n",
       "      <td>0.027232</td>\n",
       "      <td>-0.014858</td>\n",
       "      <td>0.003183</td>\n",
       "      <td>1.000000</td>\n",
       "      <td>-0.011866</td>\n",
       "      <td>-0.009933</td>\n",
       "      <td>-0.007138</td>\n",
       "    </tr>\n",
       "    <tr>\n",
       "      <th>isActiveMember</th>\n",
       "      <td>0.025651</td>\n",
       "      <td>0.085472</td>\n",
       "      <td>-0.032178</td>\n",
       "      <td>-0.010084</td>\n",
       "      <td>0.009612</td>\n",
       "      <td>-0.011866</td>\n",
       "      <td>1.000000</td>\n",
       "      <td>-0.011421</td>\n",
       "      <td>-0.156128</td>\n",
       "    </tr>\n",
       "    <tr>\n",
       "      <th>estimatedSalary</th>\n",
       "      <td>-0.001384</td>\n",
       "      <td>-0.007201</td>\n",
       "      <td>0.010520</td>\n",
       "      <td>0.012797</td>\n",
       "      <td>0.014204</td>\n",
       "      <td>-0.009933</td>\n",
       "      <td>-0.011421</td>\n",
       "      <td>1.000000</td>\n",
       "      <td>0.012097</td>\n",
       "    </tr>\n",
       "    <tr>\n",
       "      <th>exited</th>\n",
       "      <td>-0.027094</td>\n",
       "      <td>0.285323</td>\n",
       "      <td>-0.016761</td>\n",
       "      <td>0.118533</td>\n",
       "      <td>-0.047820</td>\n",
       "      <td>-0.007138</td>\n",
       "      <td>-0.156128</td>\n",
       "      <td>0.012097</td>\n",
       "      <td>1.000000</td>\n",
       "    </tr>\n",
       "  </tbody>\n",
       "</table>\n",
       "</div>"
      ],
      "text/plain": [
       "                 creditScore       age    tenure   balance  numOfProducts  \\\n",
       "creditScore         1.000000 -0.003965 -0.000062  0.006268       0.012238   \n",
       "age                -0.003965  1.000000 -0.013134  0.028308      -0.030680   \n",
       "tenure             -0.000062 -0.013134  1.000000 -0.007911       0.011979   \n",
       "balance             0.006268  0.028308 -0.007911  1.000000      -0.304180   \n",
       "numOfProducts       0.012238 -0.030680  0.011979 -0.304180       1.000000   \n",
       "hasCrCard          -0.005458 -0.011721  0.027232 -0.014858       0.003183   \n",
       "isActiveMember      0.025651  0.085472 -0.032178 -0.010084       0.009612   \n",
       "estimatedSalary    -0.001384 -0.007201  0.010520  0.012797       0.014204   \n",
       "exited             -0.027094  0.285323 -0.016761  0.118533      -0.047820   \n",
       "\n",
       "                 hasCrCard  isActiveMember  estimatedSalary    exited  \n",
       "creditScore      -0.005458        0.025651        -0.001384 -0.027094  \n",
       "age              -0.011721        0.085472        -0.007201  0.285323  \n",
       "tenure            0.027232       -0.032178         0.010520 -0.016761  \n",
       "balance          -0.014858       -0.010084         0.012797  0.118533  \n",
       "numOfProducts     0.003183        0.009612         0.014204 -0.047820  \n",
       "hasCrCard         1.000000       -0.011866        -0.009933 -0.007138  \n",
       "isActiveMember   -0.011866        1.000000        -0.011421 -0.156128  \n",
       "estimatedSalary  -0.009933       -0.011421         1.000000  0.012097  \n",
       "exited           -0.007138       -0.156128         0.012097  1.000000  "
      ]
     },
     "execution_count": 10,
     "metadata": {},
     "output_type": "execute_result"
    }
   ],
   "source": [
    "# Tabla de correlación del dataframe \"data\"\n",
    "data.corr()"
   ]
  },
  {
   "cell_type": "markdown",
   "id": "ebc463e5",
   "metadata": {},
   "source": [
    "De acuerdo con la tabla de correlación, podemos observar que la columna `tenure` no tiene una correlación considerable con alguna otra de las columnas presentes en `data`. Por tal motivo, desde este punto, trabajaremos con las columnas que tiene información categórica con la intención de identificar una posible correlación que permita encontrar los posibles valores para `tenure`."
   ]
  },
  {
   "cell_type": "code",
   "execution_count": 11,
   "id": "89b2375e",
   "metadata": {},
   "outputs": [
    {
     "data": {
      "text/html": [
       "<div>\n",
       "<style scoped>\n",
       "    .dataframe tbody tr th:only-of-type {\n",
       "        vertical-align: middle;\n",
       "    }\n",
       "\n",
       "    .dataframe tbody tr th {\n",
       "        vertical-align: top;\n",
       "    }\n",
       "\n",
       "    .dataframe thead th {\n",
       "        text-align: right;\n",
       "    }\n",
       "</style>\n",
       "<table border=\"1\" class=\"dataframe\">\n",
       "  <thead>\n",
       "    <tr style=\"text-align: right;\">\n",
       "      <th></th>\n",
       "      <th>creditScore</th>\n",
       "      <th>geography</th>\n",
       "      <th>gender</th>\n",
       "      <th>age</th>\n",
       "      <th>tenure</th>\n",
       "      <th>balance</th>\n",
       "      <th>numOfProducts</th>\n",
       "      <th>hasCrCard</th>\n",
       "      <th>isActiveMember</th>\n",
       "      <th>estimatedSalary</th>\n",
       "      <th>exited</th>\n",
       "    </tr>\n",
       "  </thead>\n",
       "  <tbody>\n",
       "    <tr>\n",
       "      <th>0</th>\n",
       "      <td>619</td>\n",
       "      <td>0</td>\n",
       "      <td>0</td>\n",
       "      <td>42</td>\n",
       "      <td>2.0</td>\n",
       "      <td>0.00</td>\n",
       "      <td>1</td>\n",
       "      <td>1</td>\n",
       "      <td>1</td>\n",
       "      <td>101348.88</td>\n",
       "      <td>1</td>\n",
       "    </tr>\n",
       "    <tr>\n",
       "      <th>1</th>\n",
       "      <td>608</td>\n",
       "      <td>2</td>\n",
       "      <td>0</td>\n",
       "      <td>41</td>\n",
       "      <td>1.0</td>\n",
       "      <td>83807.86</td>\n",
       "      <td>1</td>\n",
       "      <td>0</td>\n",
       "      <td>1</td>\n",
       "      <td>112542.58</td>\n",
       "      <td>0</td>\n",
       "    </tr>\n",
       "    <tr>\n",
       "      <th>2</th>\n",
       "      <td>502</td>\n",
       "      <td>0</td>\n",
       "      <td>0</td>\n",
       "      <td>42</td>\n",
       "      <td>8.0</td>\n",
       "      <td>159660.80</td>\n",
       "      <td>3</td>\n",
       "      <td>1</td>\n",
       "      <td>0</td>\n",
       "      <td>113931.57</td>\n",
       "      <td>1</td>\n",
       "    </tr>\n",
       "    <tr>\n",
       "      <th>3</th>\n",
       "      <td>699</td>\n",
       "      <td>0</td>\n",
       "      <td>0</td>\n",
       "      <td>39</td>\n",
       "      <td>1.0</td>\n",
       "      <td>0.00</td>\n",
       "      <td>2</td>\n",
       "      <td>0</td>\n",
       "      <td>0</td>\n",
       "      <td>93826.63</td>\n",
       "      <td>0</td>\n",
       "    </tr>\n",
       "    <tr>\n",
       "      <th>4</th>\n",
       "      <td>850</td>\n",
       "      <td>2</td>\n",
       "      <td>0</td>\n",
       "      <td>43</td>\n",
       "      <td>2.0</td>\n",
       "      <td>125510.82</td>\n",
       "      <td>1</td>\n",
       "      <td>1</td>\n",
       "      <td>1</td>\n",
       "      <td>79084.10</td>\n",
       "      <td>0</td>\n",
       "    </tr>\n",
       "    <tr>\n",
       "      <th>...</th>\n",
       "      <td>...</td>\n",
       "      <td>...</td>\n",
       "      <td>...</td>\n",
       "      <td>...</td>\n",
       "      <td>...</td>\n",
       "      <td>...</td>\n",
       "      <td>...</td>\n",
       "      <td>...</td>\n",
       "      <td>...</td>\n",
       "      <td>...</td>\n",
       "      <td>...</td>\n",
       "    </tr>\n",
       "    <tr>\n",
       "      <th>9995</th>\n",
       "      <td>771</td>\n",
       "      <td>0</td>\n",
       "      <td>1</td>\n",
       "      <td>39</td>\n",
       "      <td>5.0</td>\n",
       "      <td>0.00</td>\n",
       "      <td>2</td>\n",
       "      <td>1</td>\n",
       "      <td>0</td>\n",
       "      <td>96270.64</td>\n",
       "      <td>0</td>\n",
       "    </tr>\n",
       "    <tr>\n",
       "      <th>9996</th>\n",
       "      <td>516</td>\n",
       "      <td>0</td>\n",
       "      <td>1</td>\n",
       "      <td>35</td>\n",
       "      <td>10.0</td>\n",
       "      <td>57369.61</td>\n",
       "      <td>1</td>\n",
       "      <td>1</td>\n",
       "      <td>1</td>\n",
       "      <td>101699.77</td>\n",
       "      <td>0</td>\n",
       "    </tr>\n",
       "    <tr>\n",
       "      <th>9997</th>\n",
       "      <td>709</td>\n",
       "      <td>0</td>\n",
       "      <td>0</td>\n",
       "      <td>36</td>\n",
       "      <td>7.0</td>\n",
       "      <td>0.00</td>\n",
       "      <td>1</td>\n",
       "      <td>0</td>\n",
       "      <td>1</td>\n",
       "      <td>42085.58</td>\n",
       "      <td>1</td>\n",
       "    </tr>\n",
       "    <tr>\n",
       "      <th>9998</th>\n",
       "      <td>772</td>\n",
       "      <td>1</td>\n",
       "      <td>1</td>\n",
       "      <td>42</td>\n",
       "      <td>3.0</td>\n",
       "      <td>75075.31</td>\n",
       "      <td>2</td>\n",
       "      <td>1</td>\n",
       "      <td>0</td>\n",
       "      <td>92888.52</td>\n",
       "      <td>1</td>\n",
       "    </tr>\n",
       "    <tr>\n",
       "      <th>9999</th>\n",
       "      <td>792</td>\n",
       "      <td>0</td>\n",
       "      <td>0</td>\n",
       "      <td>28</td>\n",
       "      <td>NaN</td>\n",
       "      <td>130142.79</td>\n",
       "      <td>1</td>\n",
       "      <td>1</td>\n",
       "      <td>0</td>\n",
       "      <td>38190.78</td>\n",
       "      <td>0</td>\n",
       "    </tr>\n",
       "  </tbody>\n",
       "</table>\n",
       "<p>10000 rows × 11 columns</p>\n",
       "</div>"
      ],
      "text/plain": [
       "      creditScore  geography  gender  age  tenure    balance  numOfProducts  \\\n",
       "0             619          0       0   42     2.0       0.00              1   \n",
       "1             608          2       0   41     1.0   83807.86              1   \n",
       "2             502          0       0   42     8.0  159660.80              3   \n",
       "3             699          0       0   39     1.0       0.00              2   \n",
       "4             850          2       0   43     2.0  125510.82              1   \n",
       "...           ...        ...     ...  ...     ...        ...            ...   \n",
       "9995          771          0       1   39     5.0       0.00              2   \n",
       "9996          516          0       1   35    10.0   57369.61              1   \n",
       "9997          709          0       0   36     7.0       0.00              1   \n",
       "9998          772          1       1   42     3.0   75075.31              2   \n",
       "9999          792          0       0   28     NaN  130142.79              1   \n",
       "\n",
       "      hasCrCard  isActiveMember  estimatedSalary  exited  \n",
       "0             1               1        101348.88       1  \n",
       "1             0               1        112542.58       0  \n",
       "2             1               0        113931.57       1  \n",
       "3             0               0         93826.63       0  \n",
       "4             1               1         79084.10       0  \n",
       "...         ...             ...              ...     ...  \n",
       "9995          1               0         96270.64       0  \n",
       "9996          1               1        101699.77       0  \n",
       "9997          0               1         42085.58       1  \n",
       "9998          1               0         92888.52       1  \n",
       "9999          1               0         38190.78       0  \n",
       "\n",
       "[10000 rows x 11 columns]"
      ]
     },
     "execution_count": 11,
     "metadata": {},
     "output_type": "execute_result"
    }
   ],
   "source": [
    "# Trabajando con las columnas \"geography\" y \"gender\"\n",
    "le = LabelEncoder()\n",
    "new_data = data.copy()\n",
    "new_data['geography'] = le.fit_transform(data['geography'])\n",
    "new_data['gender'] = le.fit_transform(data['gender'])\n",
    "new_data"
   ]
  },
  {
   "cell_type": "code",
   "execution_count": 12,
   "id": "513fc519",
   "metadata": {},
   "outputs": [
    {
     "data": {
      "text/html": [
       "<div>\n",
       "<style scoped>\n",
       "    .dataframe tbody tr th:only-of-type {\n",
       "        vertical-align: middle;\n",
       "    }\n",
       "\n",
       "    .dataframe tbody tr th {\n",
       "        vertical-align: top;\n",
       "    }\n",
       "\n",
       "    .dataframe thead th {\n",
       "        text-align: right;\n",
       "    }\n",
       "</style>\n",
       "<table border=\"1\" class=\"dataframe\">\n",
       "  <thead>\n",
       "    <tr style=\"text-align: right;\">\n",
       "      <th></th>\n",
       "      <th>geography</th>\n",
       "      <th>gender</th>\n",
       "      <th>tenure</th>\n",
       "    </tr>\n",
       "  </thead>\n",
       "  <tbody>\n",
       "    <tr>\n",
       "      <th>geography</th>\n",
       "      <td>1.000000</td>\n",
       "      <td>0.004719</td>\n",
       "      <td>-0.000888</td>\n",
       "    </tr>\n",
       "    <tr>\n",
       "      <th>gender</th>\n",
       "      <td>0.004719</td>\n",
       "      <td>1.000000</td>\n",
       "      <td>0.012634</td>\n",
       "    </tr>\n",
       "    <tr>\n",
       "      <th>tenure</th>\n",
       "      <td>-0.000888</td>\n",
       "      <td>0.012634</td>\n",
       "      <td>1.000000</td>\n",
       "    </tr>\n",
       "  </tbody>\n",
       "</table>\n",
       "</div>"
      ],
      "text/plain": [
       "           geography    gender    tenure\n",
       "geography   1.000000  0.004719 -0.000888\n",
       "gender      0.004719  1.000000  0.012634\n",
       "tenure     -0.000888  0.012634  1.000000"
      ]
     },
     "execution_count": 12,
     "metadata": {},
     "output_type": "execute_result"
    }
   ],
   "source": [
    "# Encontrando correlación en \"new_data\"\n",
    "new_data[['geography','gender','tenure']].corr()"
   ]
  },
  {
   "cell_type": "markdown",
   "id": "0b151cca",
   "metadata": {},
   "source": [
    "Como podemos obsevar en la tabla contemplando el resto de columnas (`geography` y `gender`) para lo cual no encontramos una correlación significativa que nos pueda brindar algún patrón de relación con la columna `tenure`. Por tal razón procederemos sin tomar en cuenta estos registros pero antes, evaluaremos cuál es la cantidad de registros eliminada de aquellos con valores nulos en la columna `tenure`."
   ]
  },
  {
   "cell_type": "code",
   "execution_count": 13,
   "id": "62b47484",
   "metadata": {},
   "outputs": [
    {
     "data": {
      "text/plain": [
       "0    7963\n",
       "1    2037\n",
       "Name: exited, dtype: int64"
      ]
     },
     "execution_count": 13,
     "metadata": {},
     "output_type": "execute_result"
    }
   ],
   "source": [
    "# Conteo del total de registros en la columna \"exited\"\n",
    "data['exited'].value_counts()"
   ]
  },
  {
   "cell_type": "code",
   "execution_count": 14,
   "id": "43c5021a",
   "metadata": {},
   "outputs": [
    {
     "data": {
      "text/plain": [
       "0    726\n",
       "1    183\n",
       "Name: exited, dtype: int64"
      ]
     },
     "execution_count": 14,
     "metadata": {},
     "output_type": "execute_result"
    }
   ],
   "source": [
    "# Conteo del total de registros nulos en \"tenure\" para la columna \"exited\"\n",
    "data[data['tenure'].isna()]['exited'].value_counts()"
   ]
  },
  {
   "cell_type": "markdown",
   "id": "4c75a65f",
   "metadata": {},
   "source": [
    "De acuerdo con el resultado, si hacemos la eliminación de los registros nulos en la columna `tenure`, obtendremos un total de `706` clientes que no se han ido contral `183` que si se han ido de un total de `7963` y `2037` respectivamente, es decir, un total del `9%` aproximadamente de los registros para ambas clases será eliminado. Este cálculo se realizo con la intención de asegurarnos de no eliminar una gran cantidad de registros de la clase minorista."
   ]
  },
  {
   "cell_type": "code",
   "execution_count": 15,
   "id": "cc83f007",
   "metadata": {},
   "outputs": [
    {
     "name": "stdout",
     "output_type": "stream",
     "text": [
      "<class 'pandas.core.frame.DataFrame'>\n",
      "RangeIndex: 9091 entries, 0 to 9090\n",
      "Data columns (total 12 columns):\n",
      " #   Column           Non-Null Count  Dtype  \n",
      "---  ------           --------------  -----  \n",
      " 0   index            9091 non-null   int64  \n",
      " 1   creditScore      9091 non-null   int64  \n",
      " 2   geography        9091 non-null   object \n",
      " 3   gender           9091 non-null   object \n",
      " 4   age              9091 non-null   int64  \n",
      " 5   tenure           9091 non-null   float64\n",
      " 6   balance          9091 non-null   float64\n",
      " 7   numOfProducts    9091 non-null   int64  \n",
      " 8   hasCrCard        9091 non-null   int64  \n",
      " 9   isActiveMember   9091 non-null   int64  \n",
      " 10  estimatedSalary  9091 non-null   float64\n",
      " 11  exited           9091 non-null   int64  \n",
      "dtypes: float64(3), int64(7), object(2)\n",
      "memory usage: 852.4+ KB\n"
     ]
    }
   ],
   "source": [
    "# Omitiendo registros nulos en la columna \"tenure\"\n",
    "data = data[data['tenure'].isna() != True]\n",
    "data.reset_index(inplace=True)\n",
    "data.info()"
   ]
  },
  {
   "cell_type": "markdown",
   "id": "f6cf91b5",
   "metadata": {},
   "source": [
    "Con lo anterior a partir de este punto trabajaremos con un total de `9091` registros.\n",
    "\n",
    "Procederemos por el cambio de tipo de dato pues no es necesario que sean del tipo `float64`, por tal razón, las convertiremos al tipo `int64`."
   ]
  },
  {
   "cell_type": "code",
   "execution_count": 16,
   "id": "714b3d6d",
   "metadata": {},
   "outputs": [
    {
     "name": "stdout",
     "output_type": "stream",
     "text": [
      "<class 'pandas.core.frame.DataFrame'>\n",
      "RangeIndex: 9091 entries, 0 to 9090\n",
      "Data columns (total 12 columns):\n",
      " #   Column           Non-Null Count  Dtype  \n",
      "---  ------           --------------  -----  \n",
      " 0   index            9091 non-null   int64  \n",
      " 1   creditScore      9091 non-null   int64  \n",
      " 2   geography        9091 non-null   object \n",
      " 3   gender           9091 non-null   object \n",
      " 4   age              9091 non-null   int64  \n",
      " 5   tenure           9091 non-null   int64  \n",
      " 6   balance          9091 non-null   float64\n",
      " 7   numOfProducts    9091 non-null   int64  \n",
      " 8   hasCrCard        9091 non-null   int64  \n",
      " 9   isActiveMember   9091 non-null   int64  \n",
      " 10  estimatedSalary  9091 non-null   float64\n",
      " 11  exited           9091 non-null   int64  \n",
      "dtypes: float64(2), int64(8), object(2)\n",
      "memory usage: 852.4+ KB\n"
     ]
    },
    {
     "name": "stderr",
     "output_type": "stream",
     "text": [
      "/var/folders/g2/6f4slx3d02g5s4th9bbb102m0000gn/T/ipykernel_20236/1520822645.py:2: SettingWithCopyWarning: \n",
      "A value is trying to be set on a copy of a slice from a DataFrame.\n",
      "Try using .loc[row_indexer,col_indexer] = value instead\n",
      "\n",
      "See the caveats in the documentation: https://pandas.pydata.org/pandas-docs/stable/user_guide/indexing.html#returning-a-view-versus-a-copy\n",
      "  data['tenure'] = data['tenure'].astype('int64')\n"
     ]
    }
   ],
   "source": [
    "# Cambiando el tipo de dato de la columna \"tenure\"\n",
    "data['tenure'] = data['tenure'].astype('int64')\n",
    "data.info()"
   ]
  },
  {
   "cell_type": "markdown",
   "id": "d5c412ec",
   "metadata": {},
   "source": [
    "Una vez que se verifica que los datos ya se encuentran listos para ser procesados, debemos identificar que tipo de modelo será el más adecuado dependiendo del problema presente en nuestros datos. Para esto, es claro que la columna objetivo se llama `exited` la cuál nos indica que si cliente se ha ido (`1`) o no (`0`); también es claro que nos enfrentamos a un problema de clasificación binario, esto es porque solo podremos tener dos valores posibles de salida.\n",
    "\n",
    "Con la intención de asegurarnos al 100% de que estas son las únicas dos clases con las que cuenta la columna, examinaremos su contenido."
   ]
  },
  {
   "cell_type": "code",
   "execution_count": 17,
   "id": "8560e014",
   "metadata": {},
   "outputs": [
    {
     "data": {
      "text/plain": [
       "0    7237\n",
       "1    1854\n",
       "Name: exited, dtype: int64"
      ]
     },
     "execution_count": 17,
     "metadata": {},
     "output_type": "execute_result"
    }
   ],
   "source": [
    "# Examinando la columna \"exited\"\n",
    "data['exited'].value_counts()"
   ]
  },
  {
   "cell_type": "markdown",
   "id": "0c26274a",
   "metadata": {},
   "source": [
    "Como podemos obsevar nos encontramos con un desbalance de clases en nuestra columna objetivo, es decir, contamos con una cantidad resultados considerablemente mayor para la clase `0` (se quedan los clientes) que para la clase `1` (los clientes que se van). Por el momento definiremos cuál de los modelos de `Machine Learning` de clasificación es el más adecuado para los datos.\n",
    "\n",
    "# Modelo de clasificación\n",
    "\n",
    "A continuación se presentará brevemente el uso de los algoritmos a considerar para el modelo de predicción.\n",
    "\n",
    "- **Árboles de decisión**: Dado un conjunto de datos se fabrican diagramas de construcción lógicas, que sirven para representar y categorizar una serie de condiciones que ocurren de forma sucesiva.\n",
    "- **Regresión logística**: Es el análisis de regresión apropiado para realizar cuando la variable dependiente es binaria. Como todos los análisis de regresión, la regresión logística es un análisis predictivo.\n",
    "- **Bosques aleatorios**: Los Bosques Aleatorios tienen una variedad de aplicaciones, tales como motores de recomendación, clasificación de imágenes y selección de características.\n",
    "\n",
    "De acuerdo con los usos de los diferentes modelos, podemos identificar que todos pueden ser utilizados para la resolución de la problematica en estos datos, por tal motivo, entrenaremos los distintos modelos variando sus híper parámetros para identificar aquellos que tienen un mejor desempeño. Todo esto será aplicado sin tener en cuenta el desequilibrio de clases.\n",
    "\n",
    "## Entrenamiento y evaluación de modelos (con desequilibrio de clases)\n",
    "\n",
    "### Preprocesamiento de entrenamiento\n",
    "\n",
    "Comenzaremos nuevamente analizando la información que nos proporciona `data` para ajustar los datos a lo requerido por los modelos de clasificación de la librería `scikitlearn`."
   ]
  },
  {
   "cell_type": "code",
   "execution_count": 18,
   "id": "5544f6c1",
   "metadata": {},
   "outputs": [
    {
     "data": {
      "text/html": [
       "<div>\n",
       "<style scoped>\n",
       "    .dataframe tbody tr th:only-of-type {\n",
       "        vertical-align: middle;\n",
       "    }\n",
       "\n",
       "    .dataframe tbody tr th {\n",
       "        vertical-align: top;\n",
       "    }\n",
       "\n",
       "    .dataframe thead th {\n",
       "        text-align: right;\n",
       "    }\n",
       "</style>\n",
       "<table border=\"1\" class=\"dataframe\">\n",
       "  <thead>\n",
       "    <tr style=\"text-align: right;\">\n",
       "      <th></th>\n",
       "      <th>index</th>\n",
       "      <th>creditScore</th>\n",
       "      <th>geography</th>\n",
       "      <th>gender</th>\n",
       "      <th>age</th>\n",
       "      <th>tenure</th>\n",
       "      <th>balance</th>\n",
       "      <th>numOfProducts</th>\n",
       "      <th>hasCrCard</th>\n",
       "      <th>isActiveMember</th>\n",
       "      <th>estimatedSalary</th>\n",
       "      <th>exited</th>\n",
       "    </tr>\n",
       "  </thead>\n",
       "  <tbody>\n",
       "    <tr>\n",
       "      <th>0</th>\n",
       "      <td>0</td>\n",
       "      <td>619</td>\n",
       "      <td>France</td>\n",
       "      <td>Female</td>\n",
       "      <td>42</td>\n",
       "      <td>2</td>\n",
       "      <td>0.00</td>\n",
       "      <td>1</td>\n",
       "      <td>1</td>\n",
       "      <td>1</td>\n",
       "      <td>101348.88</td>\n",
       "      <td>1</td>\n",
       "    </tr>\n",
       "    <tr>\n",
       "      <th>1</th>\n",
       "      <td>1</td>\n",
       "      <td>608</td>\n",
       "      <td>Spain</td>\n",
       "      <td>Female</td>\n",
       "      <td>41</td>\n",
       "      <td>1</td>\n",
       "      <td>83807.86</td>\n",
       "      <td>1</td>\n",
       "      <td>0</td>\n",
       "      <td>1</td>\n",
       "      <td>112542.58</td>\n",
       "      <td>0</td>\n",
       "    </tr>\n",
       "    <tr>\n",
       "      <th>2</th>\n",
       "      <td>2</td>\n",
       "      <td>502</td>\n",
       "      <td>France</td>\n",
       "      <td>Female</td>\n",
       "      <td>42</td>\n",
       "      <td>8</td>\n",
       "      <td>159660.80</td>\n",
       "      <td>3</td>\n",
       "      <td>1</td>\n",
       "      <td>0</td>\n",
       "      <td>113931.57</td>\n",
       "      <td>1</td>\n",
       "    </tr>\n",
       "    <tr>\n",
       "      <th>3</th>\n",
       "      <td>3</td>\n",
       "      <td>699</td>\n",
       "      <td>France</td>\n",
       "      <td>Female</td>\n",
       "      <td>39</td>\n",
       "      <td>1</td>\n",
       "      <td>0.00</td>\n",
       "      <td>2</td>\n",
       "      <td>0</td>\n",
       "      <td>0</td>\n",
       "      <td>93826.63</td>\n",
       "      <td>0</td>\n",
       "    </tr>\n",
       "    <tr>\n",
       "      <th>4</th>\n",
       "      <td>4</td>\n",
       "      <td>850</td>\n",
       "      <td>Spain</td>\n",
       "      <td>Female</td>\n",
       "      <td>43</td>\n",
       "      <td>2</td>\n",
       "      <td>125510.82</td>\n",
       "      <td>1</td>\n",
       "      <td>1</td>\n",
       "      <td>1</td>\n",
       "      <td>79084.10</td>\n",
       "      <td>0</td>\n",
       "    </tr>\n",
       "  </tbody>\n",
       "</table>\n",
       "</div>"
      ],
      "text/plain": [
       "   index  creditScore geography  gender  age  tenure    balance  \\\n",
       "0      0          619    France  Female   42       2       0.00   \n",
       "1      1          608     Spain  Female   41       1   83807.86   \n",
       "2      2          502    France  Female   42       8  159660.80   \n",
       "3      3          699    France  Female   39       1       0.00   \n",
       "4      4          850     Spain  Female   43       2  125510.82   \n",
       "\n",
       "   numOfProducts  hasCrCard  isActiveMember  estimatedSalary  exited  \n",
       "0              1          1               1        101348.88       1  \n",
       "1              1          0               1        112542.58       0  \n",
       "2              3          1               0        113931.57       1  \n",
       "3              2          0               0         93826.63       0  \n",
       "4              1          1               1         79084.10       0  "
      ]
     },
     "execution_count": 18,
     "metadata": {},
     "output_type": "execute_result"
    }
   ],
   "source": [
    "# Visualizando información de \"data\"\n",
    "data.head()"
   ]
  },
  {
   "cell_type": "markdown",
   "id": "41f38250",
   "metadata": {},
   "source": [
    "Como podemos observar, contamos con 2 columnas con registros categóricos, es decir, la información contenida dentro de las columnas `geography` y `gender`, ademas de `tenure` que ya fue trabajada, son un set definido de parámetros.\n",
    "\n",
    "Exploraremos que parámetros contiene cada columna para verificar como van a ser trabajadas posteriormente."
   ]
  },
  {
   "cell_type": "code",
   "execution_count": 19,
   "id": "f07a3d42",
   "metadata": {},
   "outputs": [
    {
     "data": {
      "text/plain": [
       "France     4550\n",
       "Germany    2293\n",
       "Spain      2248\n",
       "Name: geography, dtype: int64"
      ]
     },
     "execution_count": 19,
     "metadata": {},
     "output_type": "execute_result"
    }
   ],
   "source": [
    "# Examinando la columna \"geography\"\n",
    "data['geography'].value_counts()"
   ]
  },
  {
   "cell_type": "markdown",
   "id": "1b94f708",
   "metadata": {},
   "source": [
    "Para la columna `geography` podemos observar que tenemos 3 categorias:\n",
    "- France\n",
    "- Germany\n",
    "- Spain\n",
    "\n",
    "Continuaremos examinando la columna `gender` que es de esperar que sean unicamente dos categorías pero hay que asegurarnos de ello."
   ]
  },
  {
   "cell_type": "code",
   "execution_count": 20,
   "id": "c266dae8",
   "metadata": {},
   "outputs": [
    {
     "data": {
      "text/plain": [
       "Male      4974\n",
       "Female    4117\n",
       "Name: gender, dtype: int64"
      ]
     },
     "execution_count": 20,
     "metadata": {},
     "output_type": "execute_result"
    }
   ],
   "source": [
    "# Examinando la columna \"gender\"\n",
    "data['gender'].value_counts()"
   ]
  },
  {
   "cell_type": "markdown",
   "id": "1233b596",
   "metadata": {},
   "source": [
    "Como era de esperarse, la columna `gender` tiene unicamente 2 categorías. Una vez conociendo estos datos y algo a destacar es que los modelos de `Machine Learning` procesan unicamente datos numéricos, por tal motivo es necesario cambiar estos datos categóricos a datos numéricos y hay dos procesos para hacerlo y son:\n",
    "\n",
    "- `One Hot Encoder`: Es un proceso que se aplica para los modelos de regresión puesto que estos modelos tienen acceso a todo el espectro de variables al mismo tiempo.\n",
    "- `Label Enconder`: Es un proceso que se aplica para modelos basados en árboles puesto que estos modelos solo pueden procesar una variable a la vez y por tal razón es importante que se mantenga toda la información sobre la variable (columna) original es una característica. Principalmente es aplicado para categorías que presentan algun tipo de jerarquía en su información.\n",
    "\n",
    "Una vez aclarando la diferencia en ambos procesos, se van a aplicar diferentes procesos dependiendo del modelo que se trabaje. Por tanto y para todos los modelos se aplicará `One Hot Encoder` puesto que no hay una categorización jerárquica en la información contenida en las columnas.\n",
    "\n",
    "Comenzaremos a trabajar con los modelos de clasificación.\n",
    "\n",
    "### Preprocesamiento para modelos basados en árboles\n",
    "\n",
    "Comenzaremos aplicando `Label Encoder` a las columnas `geography` y `gender` de `data`."
   ]
  },
  {
   "cell_type": "code",
   "execution_count": 21,
   "id": "d5aac4a8",
   "metadata": {},
   "outputs": [
    {
     "data": {
      "text/html": [
       "<div>\n",
       "<style scoped>\n",
       "    .dataframe tbody tr th:only-of-type {\n",
       "        vertical-align: middle;\n",
       "    }\n",
       "\n",
       "    .dataframe tbody tr th {\n",
       "        vertical-align: top;\n",
       "    }\n",
       "\n",
       "    .dataframe thead th {\n",
       "        text-align: right;\n",
       "    }\n",
       "</style>\n",
       "<table border=\"1\" class=\"dataframe\">\n",
       "  <thead>\n",
       "    <tr style=\"text-align: right;\">\n",
       "      <th></th>\n",
       "      <th>index</th>\n",
       "      <th>creditScore</th>\n",
       "      <th>geography</th>\n",
       "      <th>gender</th>\n",
       "      <th>age</th>\n",
       "      <th>tenure</th>\n",
       "      <th>balance</th>\n",
       "      <th>numOfProducts</th>\n",
       "      <th>hasCrCard</th>\n",
       "      <th>isActiveMember</th>\n",
       "      <th>estimatedSalary</th>\n",
       "      <th>exited</th>\n",
       "    </tr>\n",
       "  </thead>\n",
       "  <tbody>\n",
       "    <tr>\n",
       "      <th>0</th>\n",
       "      <td>0</td>\n",
       "      <td>619</td>\n",
       "      <td>France</td>\n",
       "      <td>Female</td>\n",
       "      <td>42</td>\n",
       "      <td>2</td>\n",
       "      <td>0.00</td>\n",
       "      <td>1</td>\n",
       "      <td>1</td>\n",
       "      <td>1</td>\n",
       "      <td>101348.88</td>\n",
       "      <td>1</td>\n",
       "    </tr>\n",
       "    <tr>\n",
       "      <th>1</th>\n",
       "      <td>1</td>\n",
       "      <td>608</td>\n",
       "      <td>Spain</td>\n",
       "      <td>Female</td>\n",
       "      <td>41</td>\n",
       "      <td>1</td>\n",
       "      <td>83807.86</td>\n",
       "      <td>1</td>\n",
       "      <td>0</td>\n",
       "      <td>1</td>\n",
       "      <td>112542.58</td>\n",
       "      <td>0</td>\n",
       "    </tr>\n",
       "    <tr>\n",
       "      <th>2</th>\n",
       "      <td>2</td>\n",
       "      <td>502</td>\n",
       "      <td>France</td>\n",
       "      <td>Female</td>\n",
       "      <td>42</td>\n",
       "      <td>8</td>\n",
       "      <td>159660.80</td>\n",
       "      <td>3</td>\n",
       "      <td>1</td>\n",
       "      <td>0</td>\n",
       "      <td>113931.57</td>\n",
       "      <td>1</td>\n",
       "    </tr>\n",
       "    <tr>\n",
       "      <th>3</th>\n",
       "      <td>3</td>\n",
       "      <td>699</td>\n",
       "      <td>France</td>\n",
       "      <td>Female</td>\n",
       "      <td>39</td>\n",
       "      <td>1</td>\n",
       "      <td>0.00</td>\n",
       "      <td>2</td>\n",
       "      <td>0</td>\n",
       "      <td>0</td>\n",
       "      <td>93826.63</td>\n",
       "      <td>0</td>\n",
       "    </tr>\n",
       "    <tr>\n",
       "      <th>4</th>\n",
       "      <td>4</td>\n",
       "      <td>850</td>\n",
       "      <td>Spain</td>\n",
       "      <td>Female</td>\n",
       "      <td>43</td>\n",
       "      <td>2</td>\n",
       "      <td>125510.82</td>\n",
       "      <td>1</td>\n",
       "      <td>1</td>\n",
       "      <td>1</td>\n",
       "      <td>79084.10</td>\n",
       "      <td>0</td>\n",
       "    </tr>\n",
       "    <tr>\n",
       "      <th>...</th>\n",
       "      <td>...</td>\n",
       "      <td>...</td>\n",
       "      <td>...</td>\n",
       "      <td>...</td>\n",
       "      <td>...</td>\n",
       "      <td>...</td>\n",
       "      <td>...</td>\n",
       "      <td>...</td>\n",
       "      <td>...</td>\n",
       "      <td>...</td>\n",
       "      <td>...</td>\n",
       "      <td>...</td>\n",
       "    </tr>\n",
       "    <tr>\n",
       "      <th>9086</th>\n",
       "      <td>9994</td>\n",
       "      <td>800</td>\n",
       "      <td>France</td>\n",
       "      <td>Female</td>\n",
       "      <td>29</td>\n",
       "      <td>2</td>\n",
       "      <td>0.00</td>\n",
       "      <td>2</td>\n",
       "      <td>0</td>\n",
       "      <td>0</td>\n",
       "      <td>167773.55</td>\n",
       "      <td>0</td>\n",
       "    </tr>\n",
       "    <tr>\n",
       "      <th>9087</th>\n",
       "      <td>9995</td>\n",
       "      <td>771</td>\n",
       "      <td>France</td>\n",
       "      <td>Male</td>\n",
       "      <td>39</td>\n",
       "      <td>5</td>\n",
       "      <td>0.00</td>\n",
       "      <td>2</td>\n",
       "      <td>1</td>\n",
       "      <td>0</td>\n",
       "      <td>96270.64</td>\n",
       "      <td>0</td>\n",
       "    </tr>\n",
       "    <tr>\n",
       "      <th>9088</th>\n",
       "      <td>9996</td>\n",
       "      <td>516</td>\n",
       "      <td>France</td>\n",
       "      <td>Male</td>\n",
       "      <td>35</td>\n",
       "      <td>10</td>\n",
       "      <td>57369.61</td>\n",
       "      <td>1</td>\n",
       "      <td>1</td>\n",
       "      <td>1</td>\n",
       "      <td>101699.77</td>\n",
       "      <td>0</td>\n",
       "    </tr>\n",
       "    <tr>\n",
       "      <th>9089</th>\n",
       "      <td>9997</td>\n",
       "      <td>709</td>\n",
       "      <td>France</td>\n",
       "      <td>Female</td>\n",
       "      <td>36</td>\n",
       "      <td>7</td>\n",
       "      <td>0.00</td>\n",
       "      <td>1</td>\n",
       "      <td>0</td>\n",
       "      <td>1</td>\n",
       "      <td>42085.58</td>\n",
       "      <td>1</td>\n",
       "    </tr>\n",
       "    <tr>\n",
       "      <th>9090</th>\n",
       "      <td>9998</td>\n",
       "      <td>772</td>\n",
       "      <td>Germany</td>\n",
       "      <td>Male</td>\n",
       "      <td>42</td>\n",
       "      <td>3</td>\n",
       "      <td>75075.31</td>\n",
       "      <td>2</td>\n",
       "      <td>1</td>\n",
       "      <td>0</td>\n",
       "      <td>92888.52</td>\n",
       "      <td>1</td>\n",
       "    </tr>\n",
       "  </tbody>\n",
       "</table>\n",
       "<p>9091 rows × 12 columns</p>\n",
       "</div>"
      ],
      "text/plain": [
       "      index  creditScore geography  gender  age  tenure    balance  \\\n",
       "0         0          619    France  Female   42       2       0.00   \n",
       "1         1          608     Spain  Female   41       1   83807.86   \n",
       "2         2          502    France  Female   42       8  159660.80   \n",
       "3         3          699    France  Female   39       1       0.00   \n",
       "4         4          850     Spain  Female   43       2  125510.82   \n",
       "...     ...          ...       ...     ...  ...     ...        ...   \n",
       "9086   9994          800    France  Female   29       2       0.00   \n",
       "9087   9995          771    France    Male   39       5       0.00   \n",
       "9088   9996          516    France    Male   35      10   57369.61   \n",
       "9089   9997          709    France  Female   36       7       0.00   \n",
       "9090   9998          772   Germany    Male   42       3   75075.31   \n",
       "\n",
       "      numOfProducts  hasCrCard  isActiveMember  estimatedSalary  exited  \n",
       "0                 1          1               1        101348.88       1  \n",
       "1                 1          0               1        112542.58       0  \n",
       "2                 3          1               0        113931.57       1  \n",
       "3                 2          0               0         93826.63       0  \n",
       "4                 1          1               1         79084.10       0  \n",
       "...             ...        ...             ...              ...     ...  \n",
       "9086              2          0               0        167773.55       0  \n",
       "9087              2          1               0         96270.64       0  \n",
       "9088              1          1               1        101699.77       0  \n",
       "9089              1          0               1         42085.58       1  \n",
       "9090              2          1               0         92888.52       1  \n",
       "\n",
       "[9091 rows x 12 columns]"
      ]
     },
     "execution_count": 21,
     "metadata": {},
     "output_type": "execute_result"
    }
   ],
   "source": [
    "# Creando \"data_le\" para el proceso \"Label Encoder\"\n",
    "data_ohe = data.copy()\n",
    "data_ohe"
   ]
  },
  {
   "cell_type": "code",
   "execution_count": 22,
   "id": "096ceb73",
   "metadata": {},
   "outputs": [
    {
     "name": "stdout",
     "output_type": "stream",
     "text": [
      "['France', 'Germany', 'Spain', 'Female', 'Male']\n"
     ]
    }
   ],
   "source": [
    "# Trabajando con las columnas \"geography\" y \"gender\" para \"data_ohe\"\n",
    "ohe = OneHotEncoder()\n",
    "new_features = ohe.fit_transform(data_ohe[['geography','gender']]).toarray()\n",
    "categories = []\n",
    "for i in ohe.categories_:\n",
    "    for j in i:\n",
    "        categories.append(j)\n",
    "print(categories)"
   ]
  },
  {
   "cell_type": "code",
   "execution_count": 23,
   "id": "f6794d2b",
   "metadata": {},
   "outputs": [
    {
     "data": {
      "text/html": [
       "<div>\n",
       "<style scoped>\n",
       "    .dataframe tbody tr th:only-of-type {\n",
       "        vertical-align: middle;\n",
       "    }\n",
       "\n",
       "    .dataframe tbody tr th {\n",
       "        vertical-align: top;\n",
       "    }\n",
       "\n",
       "    .dataframe thead th {\n",
       "        text-align: right;\n",
       "    }\n",
       "</style>\n",
       "<table border=\"1\" class=\"dataframe\">\n",
       "  <thead>\n",
       "    <tr style=\"text-align: right;\">\n",
       "      <th></th>\n",
       "      <th>France</th>\n",
       "      <th>Germany</th>\n",
       "      <th>Spain</th>\n",
       "      <th>Female</th>\n",
       "      <th>Male</th>\n",
       "    </tr>\n",
       "  </thead>\n",
       "  <tbody>\n",
       "    <tr>\n",
       "      <th>0</th>\n",
       "      <td>1.0</td>\n",
       "      <td>0.0</td>\n",
       "      <td>0.0</td>\n",
       "      <td>1.0</td>\n",
       "      <td>0.0</td>\n",
       "    </tr>\n",
       "    <tr>\n",
       "      <th>1</th>\n",
       "      <td>0.0</td>\n",
       "      <td>0.0</td>\n",
       "      <td>1.0</td>\n",
       "      <td>1.0</td>\n",
       "      <td>0.0</td>\n",
       "    </tr>\n",
       "    <tr>\n",
       "      <th>2</th>\n",
       "      <td>1.0</td>\n",
       "      <td>0.0</td>\n",
       "      <td>0.0</td>\n",
       "      <td>1.0</td>\n",
       "      <td>0.0</td>\n",
       "    </tr>\n",
       "    <tr>\n",
       "      <th>3</th>\n",
       "      <td>1.0</td>\n",
       "      <td>0.0</td>\n",
       "      <td>0.0</td>\n",
       "      <td>1.0</td>\n",
       "      <td>0.0</td>\n",
       "    </tr>\n",
       "    <tr>\n",
       "      <th>4</th>\n",
       "      <td>0.0</td>\n",
       "      <td>0.0</td>\n",
       "      <td>1.0</td>\n",
       "      <td>1.0</td>\n",
       "      <td>0.0</td>\n",
       "    </tr>\n",
       "    <tr>\n",
       "      <th>...</th>\n",
       "      <td>...</td>\n",
       "      <td>...</td>\n",
       "      <td>...</td>\n",
       "      <td>...</td>\n",
       "      <td>...</td>\n",
       "    </tr>\n",
       "    <tr>\n",
       "      <th>9086</th>\n",
       "      <td>1.0</td>\n",
       "      <td>0.0</td>\n",
       "      <td>0.0</td>\n",
       "      <td>1.0</td>\n",
       "      <td>0.0</td>\n",
       "    </tr>\n",
       "    <tr>\n",
       "      <th>9087</th>\n",
       "      <td>1.0</td>\n",
       "      <td>0.0</td>\n",
       "      <td>0.0</td>\n",
       "      <td>0.0</td>\n",
       "      <td>1.0</td>\n",
       "    </tr>\n",
       "    <tr>\n",
       "      <th>9088</th>\n",
       "      <td>1.0</td>\n",
       "      <td>0.0</td>\n",
       "      <td>0.0</td>\n",
       "      <td>0.0</td>\n",
       "      <td>1.0</td>\n",
       "    </tr>\n",
       "    <tr>\n",
       "      <th>9089</th>\n",
       "      <td>1.0</td>\n",
       "      <td>0.0</td>\n",
       "      <td>0.0</td>\n",
       "      <td>1.0</td>\n",
       "      <td>0.0</td>\n",
       "    </tr>\n",
       "    <tr>\n",
       "      <th>9090</th>\n",
       "      <td>0.0</td>\n",
       "      <td>1.0</td>\n",
       "      <td>0.0</td>\n",
       "      <td>0.0</td>\n",
       "      <td>1.0</td>\n",
       "    </tr>\n",
       "  </tbody>\n",
       "</table>\n",
       "<p>9091 rows × 5 columns</p>\n",
       "</div>"
      ],
      "text/plain": [
       "      France  Germany  Spain  Female  Male\n",
       "0        1.0      0.0    0.0     1.0   0.0\n",
       "1        0.0      0.0    1.0     1.0   0.0\n",
       "2        1.0      0.0    0.0     1.0   0.0\n",
       "3        1.0      0.0    0.0     1.0   0.0\n",
       "4        0.0      0.0    1.0     1.0   0.0\n",
       "...      ...      ...    ...     ...   ...\n",
       "9086     1.0      0.0    0.0     1.0   0.0\n",
       "9087     1.0      0.0    0.0     0.0   1.0\n",
       "9088     1.0      0.0    0.0     0.0   1.0\n",
       "9089     1.0      0.0    0.0     1.0   0.0\n",
       "9090     0.0      1.0    0.0     0.0   1.0\n",
       "\n",
       "[9091 rows x 5 columns]"
      ]
     },
     "execution_count": 23,
     "metadata": {},
     "output_type": "execute_result"
    }
   ],
   "source": [
    "# Imprimiendo dataframe complementario de \"data_ohe\"\n",
    "new_data_ohe = pd.DataFrame(new_features,columns=categories)\n",
    "new_data_ohe"
   ]
  },
  {
   "cell_type": "markdown",
   "id": "05baec32",
   "metadata": {},
   "source": [
    "Como podemos observar, se obtiene un nuevo set de datos que contiene la categorización de las columnas `geography` y `gender`. Procederemos con la concatenación de esta información aun si eliminar las columnas anteriormente mencionadas con el finalidad de poder validar que las categorías corresponden con el metodo utilizado y su etiquetación."
   ]
  },
  {
   "cell_type": "code",
   "execution_count": 24,
   "id": "c41ea67a",
   "metadata": {},
   "outputs": [
    {
     "data": {
      "text/html": [
       "<div>\n",
       "<style scoped>\n",
       "    .dataframe tbody tr th:only-of-type {\n",
       "        vertical-align: middle;\n",
       "    }\n",
       "\n",
       "    .dataframe tbody tr th {\n",
       "        vertical-align: top;\n",
       "    }\n",
       "\n",
       "    .dataframe thead th {\n",
       "        text-align: right;\n",
       "    }\n",
       "</style>\n",
       "<table border=\"1\" class=\"dataframe\">\n",
       "  <thead>\n",
       "    <tr style=\"text-align: right;\">\n",
       "      <th></th>\n",
       "      <th>index</th>\n",
       "      <th>creditScore</th>\n",
       "      <th>geography</th>\n",
       "      <th>gender</th>\n",
       "      <th>age</th>\n",
       "      <th>tenure</th>\n",
       "      <th>balance</th>\n",
       "      <th>numOfProducts</th>\n",
       "      <th>hasCrCard</th>\n",
       "      <th>isActiveMember</th>\n",
       "      <th>estimatedSalary</th>\n",
       "      <th>exited</th>\n",
       "      <th>France</th>\n",
       "      <th>Germany</th>\n",
       "      <th>Spain</th>\n",
       "      <th>Female</th>\n",
       "      <th>Male</th>\n",
       "    </tr>\n",
       "  </thead>\n",
       "  <tbody>\n",
       "    <tr>\n",
       "      <th>0</th>\n",
       "      <td>0</td>\n",
       "      <td>619</td>\n",
       "      <td>France</td>\n",
       "      <td>Female</td>\n",
       "      <td>42</td>\n",
       "      <td>2</td>\n",
       "      <td>0.00</td>\n",
       "      <td>1</td>\n",
       "      <td>1</td>\n",
       "      <td>1</td>\n",
       "      <td>101348.88</td>\n",
       "      <td>1</td>\n",
       "      <td>1.0</td>\n",
       "      <td>0.0</td>\n",
       "      <td>0.0</td>\n",
       "      <td>1.0</td>\n",
       "      <td>0.0</td>\n",
       "    </tr>\n",
       "    <tr>\n",
       "      <th>1</th>\n",
       "      <td>1</td>\n",
       "      <td>608</td>\n",
       "      <td>Spain</td>\n",
       "      <td>Female</td>\n",
       "      <td>41</td>\n",
       "      <td>1</td>\n",
       "      <td>83807.86</td>\n",
       "      <td>1</td>\n",
       "      <td>0</td>\n",
       "      <td>1</td>\n",
       "      <td>112542.58</td>\n",
       "      <td>0</td>\n",
       "      <td>0.0</td>\n",
       "      <td>0.0</td>\n",
       "      <td>1.0</td>\n",
       "      <td>1.0</td>\n",
       "      <td>0.0</td>\n",
       "    </tr>\n",
       "    <tr>\n",
       "      <th>2</th>\n",
       "      <td>2</td>\n",
       "      <td>502</td>\n",
       "      <td>France</td>\n",
       "      <td>Female</td>\n",
       "      <td>42</td>\n",
       "      <td>8</td>\n",
       "      <td>159660.80</td>\n",
       "      <td>3</td>\n",
       "      <td>1</td>\n",
       "      <td>0</td>\n",
       "      <td>113931.57</td>\n",
       "      <td>1</td>\n",
       "      <td>1.0</td>\n",
       "      <td>0.0</td>\n",
       "      <td>0.0</td>\n",
       "      <td>1.0</td>\n",
       "      <td>0.0</td>\n",
       "    </tr>\n",
       "    <tr>\n",
       "      <th>3</th>\n",
       "      <td>3</td>\n",
       "      <td>699</td>\n",
       "      <td>France</td>\n",
       "      <td>Female</td>\n",
       "      <td>39</td>\n",
       "      <td>1</td>\n",
       "      <td>0.00</td>\n",
       "      <td>2</td>\n",
       "      <td>0</td>\n",
       "      <td>0</td>\n",
       "      <td>93826.63</td>\n",
       "      <td>0</td>\n",
       "      <td>1.0</td>\n",
       "      <td>0.0</td>\n",
       "      <td>0.0</td>\n",
       "      <td>1.0</td>\n",
       "      <td>0.0</td>\n",
       "    </tr>\n",
       "    <tr>\n",
       "      <th>4</th>\n",
       "      <td>4</td>\n",
       "      <td>850</td>\n",
       "      <td>Spain</td>\n",
       "      <td>Female</td>\n",
       "      <td>43</td>\n",
       "      <td>2</td>\n",
       "      <td>125510.82</td>\n",
       "      <td>1</td>\n",
       "      <td>1</td>\n",
       "      <td>1</td>\n",
       "      <td>79084.10</td>\n",
       "      <td>0</td>\n",
       "      <td>0.0</td>\n",
       "      <td>0.0</td>\n",
       "      <td>1.0</td>\n",
       "      <td>1.0</td>\n",
       "      <td>0.0</td>\n",
       "    </tr>\n",
       "  </tbody>\n",
       "</table>\n",
       "</div>"
      ],
      "text/plain": [
       "   index  creditScore geography  gender  age  tenure    balance  \\\n",
       "0      0          619    France  Female   42       2       0.00   \n",
       "1      1          608     Spain  Female   41       1   83807.86   \n",
       "2      2          502    France  Female   42       8  159660.80   \n",
       "3      3          699    France  Female   39       1       0.00   \n",
       "4      4          850     Spain  Female   43       2  125510.82   \n",
       "\n",
       "   numOfProducts  hasCrCard  isActiveMember  estimatedSalary  exited  France  \\\n",
       "0              1          1               1        101348.88       1     1.0   \n",
       "1              1          0               1        112542.58       0     0.0   \n",
       "2              3          1               0        113931.57       1     1.0   \n",
       "3              2          0               0         93826.63       0     1.0   \n",
       "4              1          1               1         79084.10       0     0.0   \n",
       "\n",
       "   Germany  Spain  Female  Male  \n",
       "0      0.0    0.0     1.0   0.0  \n",
       "1      0.0    1.0     1.0   0.0  \n",
       "2      0.0    0.0     1.0   0.0  \n",
       "3      0.0    0.0     1.0   0.0  \n",
       "4      0.0    1.0     1.0   0.0  "
      ]
     },
     "execution_count": 24,
     "metadata": {},
     "output_type": "execute_result"
    }
   ],
   "source": [
    "# Concatenando \"new_data_ohe\" y \"data_ohe\"\n",
    "data_ohe = pd.concat([data_ohe,new_data_ohe],axis=1)\n",
    "data_ohe.head()"
   ]
  },
  {
   "cell_type": "markdown",
   "id": "a05eefbe",
   "metadata": {},
   "source": [
    "Como podemos observar, las etiquetas e información añadida corresponde en su totalidad con las columnas `geography` y `gender`. Podremos hacer la eliminación de dichas columnas evitando redundacia de datos ademas también con la intención de evitar la tramapa de `variables dummy` eliminaremos una columna de las resultantes de la codificación de `geography` y `gender`."
   ]
  },
  {
   "cell_type": "code",
   "execution_count": 25,
   "id": "0b5f262d",
   "metadata": {},
   "outputs": [
    {
     "data": {
      "text/html": [
       "<div>\n",
       "<style scoped>\n",
       "    .dataframe tbody tr th:only-of-type {\n",
       "        vertical-align: middle;\n",
       "    }\n",
       "\n",
       "    .dataframe tbody tr th {\n",
       "        vertical-align: top;\n",
       "    }\n",
       "\n",
       "    .dataframe thead th {\n",
       "        text-align: right;\n",
       "    }\n",
       "</style>\n",
       "<table border=\"1\" class=\"dataframe\">\n",
       "  <thead>\n",
       "    <tr style=\"text-align: right;\">\n",
       "      <th></th>\n",
       "      <th>index</th>\n",
       "      <th>creditScore</th>\n",
       "      <th>age</th>\n",
       "      <th>tenure</th>\n",
       "      <th>balance</th>\n",
       "      <th>numOfProducts</th>\n",
       "      <th>hasCrCard</th>\n",
       "      <th>isActiveMember</th>\n",
       "      <th>estimatedSalary</th>\n",
       "      <th>exited</th>\n",
       "      <th>France</th>\n",
       "      <th>Germany</th>\n",
       "      <th>Female</th>\n",
       "    </tr>\n",
       "  </thead>\n",
       "  <tbody>\n",
       "    <tr>\n",
       "      <th>0</th>\n",
       "      <td>0</td>\n",
       "      <td>619</td>\n",
       "      <td>42</td>\n",
       "      <td>2</td>\n",
       "      <td>0.00</td>\n",
       "      <td>1</td>\n",
       "      <td>1</td>\n",
       "      <td>1</td>\n",
       "      <td>101348.88</td>\n",
       "      <td>1</td>\n",
       "      <td>1.0</td>\n",
       "      <td>0.0</td>\n",
       "      <td>1.0</td>\n",
       "    </tr>\n",
       "    <tr>\n",
       "      <th>1</th>\n",
       "      <td>1</td>\n",
       "      <td>608</td>\n",
       "      <td>41</td>\n",
       "      <td>1</td>\n",
       "      <td>83807.86</td>\n",
       "      <td>1</td>\n",
       "      <td>0</td>\n",
       "      <td>1</td>\n",
       "      <td>112542.58</td>\n",
       "      <td>0</td>\n",
       "      <td>0.0</td>\n",
       "      <td>0.0</td>\n",
       "      <td>1.0</td>\n",
       "    </tr>\n",
       "    <tr>\n",
       "      <th>2</th>\n",
       "      <td>2</td>\n",
       "      <td>502</td>\n",
       "      <td>42</td>\n",
       "      <td>8</td>\n",
       "      <td>159660.80</td>\n",
       "      <td>3</td>\n",
       "      <td>1</td>\n",
       "      <td>0</td>\n",
       "      <td>113931.57</td>\n",
       "      <td>1</td>\n",
       "      <td>1.0</td>\n",
       "      <td>0.0</td>\n",
       "      <td>1.0</td>\n",
       "    </tr>\n",
       "    <tr>\n",
       "      <th>3</th>\n",
       "      <td>3</td>\n",
       "      <td>699</td>\n",
       "      <td>39</td>\n",
       "      <td>1</td>\n",
       "      <td>0.00</td>\n",
       "      <td>2</td>\n",
       "      <td>0</td>\n",
       "      <td>0</td>\n",
       "      <td>93826.63</td>\n",
       "      <td>0</td>\n",
       "      <td>1.0</td>\n",
       "      <td>0.0</td>\n",
       "      <td>1.0</td>\n",
       "    </tr>\n",
       "    <tr>\n",
       "      <th>4</th>\n",
       "      <td>4</td>\n",
       "      <td>850</td>\n",
       "      <td>43</td>\n",
       "      <td>2</td>\n",
       "      <td>125510.82</td>\n",
       "      <td>1</td>\n",
       "      <td>1</td>\n",
       "      <td>1</td>\n",
       "      <td>79084.10</td>\n",
       "      <td>0</td>\n",
       "      <td>0.0</td>\n",
       "      <td>0.0</td>\n",
       "      <td>1.0</td>\n",
       "    </tr>\n",
       "  </tbody>\n",
       "</table>\n",
       "</div>"
      ],
      "text/plain": [
       "   index  creditScore  age  tenure    balance  numOfProducts  hasCrCard  \\\n",
       "0      0          619   42       2       0.00              1          1   \n",
       "1      1          608   41       1   83807.86              1          0   \n",
       "2      2          502   42       8  159660.80              3          1   \n",
       "3      3          699   39       1       0.00              2          0   \n",
       "4      4          850   43       2  125510.82              1          1   \n",
       "\n",
       "   isActiveMember  estimatedSalary  exited  France  Germany  Female  \n",
       "0               1        101348.88       1     1.0      0.0     1.0  \n",
       "1               1        112542.58       0     0.0      0.0     1.0  \n",
       "2               0        113931.57       1     1.0      0.0     1.0  \n",
       "3               0         93826.63       0     1.0      0.0     1.0  \n",
       "4               1         79084.10       0     0.0      0.0     1.0  "
      ]
     },
     "execution_count": 25,
     "metadata": {},
     "output_type": "execute_result"
    }
   ],
   "source": [
    "# Eliminación de las columnas \"geography\" y \"gender\"\n",
    "data_ohe.drop(['geography','gender','Spain','Male'],axis=1,inplace=True)\n",
    "data_ohe.head()"
   ]
  },
  {
   "cell_type": "markdown",
   "id": "bd2a00da",
   "metadata": {},
   "source": [
    "Como podemos observar, ya se encuentra homologada y ajustada la información dentro de `data_ohe` para comenzar con el entrenamiento de dos de los tres modelos de clasificación.\n",
    "\n",
    "#### Bosques Aleatorios\n",
    "\n",
    "Para este modelo debemos considerar sus hiper parámetros que son aquellos datos específicos que permiten modelar de forma correcta la estructura de entrenamiento de acuerdo con los datos de entrada que se le proporcionen (`features`).\n",
    "\n",
    "En específico nos centraremos en los siguiente hiper parámetros:\n",
    "- `n_estimators`: número de árboles a implementar en el modelo.\n",
    "- `criterion`: función que permite cuantificar la calidad de los segmentos generados.\n",
    "- `max_depth`: máxima profundidad del árbol.\n",
    "- `min_samples_split`: la cantidad mínima de muestras requeridas para dividir un nodo interno.\n",
    "- `min_samples_leaf`: la cantidad mínima de muestras para poder estar en un nodo.\n",
    "\n",
    "Partiremos de la segmentación de la información en 2 conjuntos, el conjunto de entrenamiento y el conjunto de testeo."
   ]
  },
  {
   "cell_type": "code",
   "execution_count": 26,
   "id": "6ed1a971",
   "metadata": {},
   "outputs": [
    {
     "name": "stdout",
     "output_type": "stream",
     "text": [
      "Training: (6090, 12) (6090,)\n",
      "Testing: (3001, 12) (3001,)\n"
     ]
    }
   ],
   "source": [
    "# Creando conjunto de entrenamiento y testeo\n",
    "X = data_ohe.iloc[:,:-1]\n",
    "y = data_ohe['exited']\n",
    "\n",
    "X_train, X_test, y_train, y_test = train_test_split(X, y, test_size=0.33, random_state=12345)\n",
    "\n",
    "print(\"Training:\",X_train.shape,y_train.shape)\n",
    "print(\"Testing:\",X_test.shape,y_test.shape)"
   ]
  },
  {
   "cell_type": "code",
   "execution_count": 27,
   "id": "66320740",
   "metadata": {},
   "outputs": [
    {
     "name": "stdout",
     "output_type": "stream",
     "text": [
      "Accuracy del mejor modelo en el conjunto de validación (n_estimators = 10, criterion = gini, [max_depth,min_samples_split,min_samples_leaf] = 14 ): 1.0\n"
     ]
    }
   ],
   "source": [
    "# Evaluación del modelo con sus híper parámetros\n",
    "best_score = 0\n",
    "best_estimator = 0\n",
    "criterion = ''\n",
    "max_depth = 0\n",
    "\n",
    "criterions = ['gini', 'entropy']\n",
    "for estimators in range(10,201,10):\n",
    "    for crit in criterions:\n",
    "        for rest in range(2,15):\n",
    "            rfc_model = RandomForestClassifier(random_state=12345,\n",
    "                                               n_estimators=estimators,\n",
    "                                               criterion=crit,\n",
    "                                               max_depth=rest,\n",
    "                                               min_samples_split=rest,\n",
    "                                               min_samples_leaf=rest)\n",
    "            rfc_model.fit(X_train,y_train)\n",
    "            score = rfc_model.score(X_test,y_test)\n",
    "            if score > best_score:\n",
    "                best_score = score\n",
    "                best_estimator = estimators\n",
    "                criterion = crit\n",
    "                max_depth = rest\n",
    "\n",
    "print(\"Accuracy del mejor modelo en el conjunto de validación (n_estimators = {}, criterion = {}, [max_depth,min_samples_split,min_samples_leaf] = {} ): {}\".format(best_estimator, criterion, rest, best_score))\n",
    "    "
   ]
  },
  {
   "cell_type": "markdown",
   "id": "b6dc6357",
   "metadata": {},
   "source": [
    "De acuerdo con la información arrojada por la prueba, los híper parámetros que arrojan el mejor resultado de desempeño basado en el método `score` son:\n",
    "\n",
    "- `n_estimators`: 10\n",
    "- `criterion`: gini\n",
    "- `max_depth`: 14\n",
    "- `min_samples_split`: 14\n",
    "- `min_samples_leaf`: 14\n",
    "\n",
    "Se hará nuevamente la misma dinámica de descubrimiento de híper parámetros para el modelo `Árboles de decisión` que también es un modelo de clasificación basado en árboles que contiene los mísmos híper parámetros exceptuando `max_depth`.\n",
    "\n",
    "#### Árboles de decisión"
   ]
  },
  {
   "cell_type": "code",
   "execution_count": 28,
   "id": "ddb45dfb",
   "metadata": {},
   "outputs": [
    {
     "name": "stdout",
     "output_type": "stream",
     "text": [
      "Accuracy del mejor modelo en el conjunto de validación (max_depth = 1, criterion = gini, [min_samples_split, min_samples_leaf] = 2): 1.0\n"
     ]
    }
   ],
   "source": [
    "# Evaluación del modelo con sus híper parámetros\n",
    "best_score = 0\n",
    "best_depth = 0\n",
    "criterion = ''\n",
    "min_samples_split = 0\n",
    "criterions = [\"gini\", \"entropy\"]\n",
    "\n",
    "for depth in range(1,15):\n",
    "    for crit in criterions:\n",
    "        for rest in range(2,15):\n",
    "            dtc_model = DecisionTreeClassifier(random_state=12345,\n",
    "                                               max_depth=depth, criterion=crit, \n",
    "                                               min_samples_split=rest, min_samples_leaf=rest)\n",
    "            dtc_model.fit(X_train,y_train)\n",
    "            score = dtc_model.score(X_test,y_test)\n",
    "            if score > best_score:\n",
    "                best_score = score\n",
    "                best_depth = depth\n",
    "                criterion = crit\n",
    "                min_samples_split = rest\n",
    "        \n",
    "print(\"Accuracy del mejor modelo en el conjunto de validación (max_depth = {}, criterion = {}, [min_samples_split, min_samples_leaf] = {}): {}\".format(best_depth, criterion, min_samples_split, best_score))"
   ]
  },
  {
   "cell_type": "markdown",
   "id": "41f57895",
   "metadata": {},
   "source": [
    "Hasta el momento, el modelo con mejor desempeño es el mismo entre `Bosques Aleatorios` y `Árboles de decisión`, para poder elegir uno de los modelos de clasificación debemos poner a prueba el modelo de `Regresión Logística`.\n",
    "\n",
    "#### Regresión Logística"
   ]
  },
  {
   "cell_type": "code",
   "execution_count": 29,
   "id": "6b7c99da",
   "metadata": {},
   "outputs": [
    {
     "name": "stdout",
     "output_type": "stream",
     "text": [
      "Training: (6090, 12) (6090,)\n",
      "Testing: (3001, 12) (3001,)\n"
     ]
    }
   ],
   "source": [
    "# Creando set de entrenamiento y de testeo\n",
    "X = data_ohe.drop(['exited'],axis=1)\n",
    "y = data_ohe['exited']\n",
    "\n",
    "X_train, X_test, y_train, y_test = train_test_split(X, y, test_size=0.33, random_state=12345)\n",
    "\n",
    "print(\"Training:\",X_train.shape,y_train.shape)\n",
    "print(\"Testing:\",X_test.shape,y_test.shape)"
   ]
  },
  {
   "cell_type": "markdown",
   "id": "c51284b8",
   "metadata": {},
   "source": [
    "Como podemos observar en el tamaño de los sets de entrenamiento y testeo, contamos con `12` columnas para el entrenamiento, es decir, las `características` y una más como `objetivo`. Procederemos con la evaluación de híper parámetros para el modelo de clasificación `Regresión logística`.\n",
    "\n",
    "Este modelo requiere de un hiper parámetro a considerar para un buen modelado y es `solver`, que ayuda al agoritmo a reconocer de mejor forma las características de entrada que se le proporcionan; como opciones tenemos las siguientes:\n",
    "- `liblinear`: Se aplica cuando se tiene un dataset pequeño ademas de una categorización binaria, es decir, uno contra el resto de resultados.\n",
    "- `newton-cg`, `sag`, `saga` and `lbfgs`: Se aplican cuando se tienen problemas de multiclase, es decir, que la clasificación va más allá de 2 clases de resultados.\n",
    "- `newton-cholesky`: Se usa cuando dentro del mismo dataset hay información categorica.\n",
    "\n",
    "Por lo anterior y debido a las características de los datos de entrada podemos determinar que `liblinear` es la opción adecuada por lo siguiente:\n",
    "- Tenemos un dataset reducido.\n",
    "- Tenemos una categorización binaria, lo que podría considerarse una categoría contra el resto.\n",
    "\n",
    "Una vez teniendo estos datos justificados, iniciaremos con el modelado."
   ]
  },
  {
   "cell_type": "code",
   "execution_count": 30,
   "id": "f8474609",
   "metadata": {},
   "outputs": [
    {
     "name": "stdout",
     "output_type": "stream",
     "text": [
      "La precisión obtenida en el algoritmo de \"Regresión logística es:\" 0.7994001999333555\n"
     ]
    }
   ],
   "source": [
    "# Creación del modelo\n",
    "lr_model = LogisticRegression(random_state=12345,solver='liblinear')\n",
    "lr_model.fit(X_train,y_train)\n",
    "lr_score = lr_model.score(X_test,y_test)\n",
    "print('La precisión obtenida en el algoritmo de \"Regresión logística es:\"',lr_score)"
   ]
  },
  {
   "cell_type": "markdown",
   "id": "823b9494",
   "metadata": {},
   "source": [
    "De acuerdo con los resultados de los tres algoritmos, podemos identificar que hay un `sobreajuste` tanto para `Bosques aleatorios` como para `Árboles de decisión`, esto los sabemos porque tiene una eficiencia del `100%` mientras que para `Regresión logística` la eficiencia es del `80%` aproximadamente."
   ]
  },
  {
   "cell_type": "markdown",
   "id": "d312f271",
   "metadata": {},
   "source": [
    "De acuerdo con el resultado, hay un desbalance abismal entre la predicción para los que deciden quedarse y los que deciden irse. Esto puede presentar una problematica para el modelo puesto que hay muchos más registros con tendencia hacia una de las clases que a la otra y por ende el entrenamiento no ser lo suficientemente adecuado para tener un buen performance. Si bien el modelo predice con una exactitud del `87%` aproximadamente, este resultado puede no ser el optimo al no trabajar con estos desbalances de clases.\n",
    "\n",
    "Mostraremos la calidad de predicción haciendo uso de una herramienta llamada `matriz de confusión`."
   ]
  },
  {
   "cell_type": "code",
   "execution_count": 37,
   "id": "31e7e885",
   "metadata": {},
   "outputs": [
    {
     "name": "stdout",
     "output_type": "stream",
     "text": [
      "Matriz de confusión para \"Bosques aleatorios\"\n"
     ]
    },
    {
     "data": {
      "text/plain": [
       "array([[2391,   17],\n",
       "       [ 585,    8]])"
      ]
     },
     "execution_count": 37,
     "metadata": {},
     "output_type": "execute_result"
    }
   ],
   "source": [
    "# Matriz de confusión para \"Bosques aleatorios\"\n",
    "model_rfc = RandomForestClassifier(random_state=12345,n_estimators=10,criterion='gini',max_depth=14,min_samples_split=14,min_samples_leaf=14)\n",
    "model_rfc.fit(X_train,y_train)\n",
    "result_rfc = model_rfc.predict(X_test)\n",
    "print('Matriz de confusión para \"Bosques aleatorios\"')\n",
    "confusion_matrix(y_test,result)\n"
   ]
  },
  {
   "cell_type": "code",
   "execution_count": 38,
   "id": "c6bea60b",
   "metadata": {},
   "outputs": [
    {
     "name": "stdout",
     "output_type": "stream",
     "text": [
      "Matriz de confusión para \"Árboles de decisión\"\n"
     ]
    },
    {
     "data": {
      "text/plain": [
       "array([[2391,   17],\n",
       "       [ 585,    8]])"
      ]
     },
     "execution_count": 38,
     "metadata": {},
     "output_type": "execute_result"
    }
   ],
   "source": [
    "# Matriz de confusión para \"Árboles de decisión\"\n",
    "model_dtc = DecisionTreeClassifier(random_state=12345,max_depth=1, criterion='gini', min_samples_split=2, min_samples_leaf=2)\n",
    "model_dtc.fit(X_train,y_train)\n",
    "result_dtc = model_rfc.predict(X_test)\n",
    "print('Matriz de confusión para \"Árboles de decisión\"')\n",
    "confusion_matrix(y_test,result)\n"
   ]
  },
  {
   "cell_type": "code",
   "execution_count": 39,
   "id": "45d2a9c2",
   "metadata": {},
   "outputs": [
    {
     "name": "stdout",
     "output_type": "stream",
     "text": [
      "Matriz de confusión para \"Regresión logística\"\n"
     ]
    },
    {
     "data": {
      "text/plain": [
       "array([[2391,   17],\n",
       "       [ 585,    8]])"
      ]
     },
     "execution_count": 39,
     "metadata": {},
     "output_type": "execute_result"
    }
   ],
   "source": [
    "# Matriz de confusión para \"Regresión logística\"\n",
    "model_rlc = LogisticRegression(random_state=12345,solver='liblinear')\n",
    "model_rlc.fit(X_train,y_train)\n",
    "result_rlc = model_rlc.predict(X_test)\n",
    "print('Matriz de confusión para \"Regresión logística\"')\n",
    "confusion_matrix(y_test,result)"
   ]
  },
  {
   "cell_type": "markdown",
   "id": "ca707ed1",
   "metadata": {},
   "source": [
    "Esta matriz nos indica la clasificación obtenida tanto correcta como erronea y en específico para este problema, el objetivo es predecir si el cliente permanecerá en el banco o se irá como cliente a alguno otro donde el `0` significa `el cliente permanece` y `1` `el cliente se va`.\n",
    "\n",
    "Tomando en cuenta que hay un desbalance de clases notorio a simple vista y un sobreentrenamiento de los modelos con la información proporcionada hasta el momento, requerimos sostener haciendo uso de otrás métricas, la precisión de predicción de nuestro modelo y por tal motivo, comenzaremos por la métrica `recall`.\n",
    "\n",
    "## Evaluación del modelo sin balanceo de clases\n",
    "\n",
    "### Recall\n",
    "\n",
    "Es una métrica que nos permite evaluar la eficiencia del modelo a través de los resultados positivos. Para su cálculo, debemos encontrar todos los valores `verdaderos positivos (VP)`, es decir, los valores que se predijeron correctamente y que cumplen el objetivo, sobre la suma de todos los valores positivos encontrados, es decir nuevamente `verdaderos positivos (VP)` más `falsos negativos (FN)` que son aquellos valores que se predijeron como negativos pero que realmente debierón ser positivos.\n",
    "\n",
    "\n",
    "$$recall = \\frac{VP}{VP+FN}$$\n",
    "\n",
    "\n",
    "Lo que buscamos con esta métrica es que el valor de `recall` sea lo más cercano a uno pues esto nos indicaría que son mínimos aquellos valores predichos de forma postiva que son erroneos."
   ]
  },
  {
   "cell_type": "code",
   "execution_count": 40,
   "id": "15a03c43",
   "metadata": {},
   "outputs": [
    {
     "name": "stdout",
     "output_type": "stream",
     "text": [
      "El valor de \"RECALL\" para \"Bosques aleatorios\" es de: 0.39291736930860033\n",
      "El valor de \"RECALL\" para \"Árboles de decisión\" es de: 0.39291736930860033\n",
      "El valor de \"RECALL\" para \"Regresión logística\" es de: 0.013490725126475547\n"
     ]
    }
   ],
   "source": [
    "# Calculando \"recall\"\n",
    "recall_rfc = recall_score(y_test,result_rfc)\n",
    "recall_dtc = recall_score(y_test,result_dtc)\n",
    "recall_rlc = recall_score(y_test,result_rlc)\n",
    "\n",
    "print('El valor de \"RECALL\" para \"Bosques aleatorios\" es de:',recall_rfc)\n",
    "print('El valor de \"RECALL\" para \"Árboles de decisión\" es de:',recall_dtc)\n",
    "print('El valor de \"RECALL\" para \"Regresión logística\" es de:',recall_rlc)"
   ]
  },
  {
   "cell_type": "markdown",
   "id": "9d55474d",
   "metadata": {},
   "source": [
    "Como podemos ver, la predicción de valores positivos correctos es menor al `40%` de forma general, lo que nos lleva a pensar que en realidad nuestro modelo no para nada bueno prediciendo como anteriormente se había señalado. Probemos el resultado para `precision`.\n",
    "\n",
    "### Precision\n",
    "\n",
    "Esta métrica nos proporciona la cantidad de respuestas negativas encontradas mientras que el modelo buscaba respuestas positivas y su fórmula es:\n",
    "\n",
    "\n",
    "$$precision = \\frac{VP}{VP+FP}$$"
   ]
  },
  {
   "cell_type": "code",
   "execution_count": 41,
   "id": "1d6a2721",
   "metadata": {},
   "outputs": [
    {
     "name": "stdout",
     "output_type": "stream",
     "text": [
      "El valor de \"PRECISION\" para \"Bosques aleatorios\" es de: 0.39291736930860033\n",
      "El valor de \"PRECISION\" para \"Árboles de decisión\" es de: 0.39291736930860033\n",
      "El valor de \"PRECISION\" para \"Regresión logística\" es de: 0.013490725126475547\n"
     ]
    }
   ],
   "source": [
    "# Calculando \"precision\"\n",
    "precision_rfc = precision_score(y_test,result_rfc)\n",
    "precision_dtc = precision_score(y_test,result_dtc)\n",
    "precision_rlc = precision_score(y_test,result_rlc)\n",
    "\n",
    "print('El valor de \"PRECISION\" para \"Bosques aleatorios\" es de:',recall_rfc)\n",
    "print('El valor de \"PRECISION\" para \"Árboles de decisión\" es de:',recall_dtc)\n",
    "print('El valor de \"PRECISION\" para \"Regresión logística\" es de:',recall_rlc)"
   ]
  },
  {
   "cell_type": "markdown",
   "id": "ecebbcf8",
   "metadata": {},
   "source": [
    "Para esta métrica, nuevamente el objetivo es estar lo más cerca de `1`, pues eso nos indica que el modelo al buscar respuestas positivas, encontro pocos errores, es decir, encontro pocos valores positivos que realmente debierón ser negativos.\n",
    "\n",
    "En conclusión para las métricas:\n",
    "- `Recall` describe que tan buena es la compresión de la clase positiva para el modelo y podemos observar que de acuerdo al resultado, esta es deficiente.\n",
    "- `Precision` describe cuando un modelo exagera demasiado en la detección de la clase positiva frente a la otra puesto que la asignación de etiquetas es mayor y podemos presentar una sobre detección de esta debido al desbalance de clases.\n",
    "\n",
    "Ahora trabajaremos con la métreca `F1`.\n",
    "\n",
    "### F1\n",
    "\n",
    "Es una métrica de agregación que nos ayuda a controlar simultaneamente tanto `recall` como `precision` encontrando una media armóniva entre ambas. En pocas palabras esta métrica nos indica cual es la diferencia de proporcionalidad entre clases."
   ]
  },
  {
   "cell_type": "code",
   "execution_count": 42,
   "id": "63af4c79",
   "metadata": {},
   "outputs": [
    {
     "name": "stdout",
     "output_type": "stream",
     "text": [
      "El valor de \"F1\" para \"Bosques aleatorios\" es de: 0.5271493212669683\n",
      "El valor de \"F1\" para \"Árboles de decisión\" es de: 0.5271493212669683\n",
      "El valor de \"F1\" para \"Regresión logística\" es de: 0.025889967637540454\n"
     ]
    }
   ],
   "source": [
    "# Calculando \"f1\"\n",
    "f1_rfc = f1_score(y_test,result_rfc)\n",
    "f1_dtc = f1_score(y_test,result_dtc)\n",
    "f1_rlc = f1_score(y_test,result_rlc)\n",
    "\n",
    "print('El valor de \"F1\" para \"Bosques aleatorios\" es de:',f1_rfc)\n",
    "print('El valor de \"F1\" para \"Árboles de decisión\" es de:',f1_dtc)\n",
    "print('El valor de \"F1\" para \"Regresión logística\" es de:',f1_rlc)"
   ]
  },
  {
   "cell_type": "markdown",
   "id": "dd685116",
   "metadata": {},
   "source": [
    "Este resultado nos confirma la diferencia de clases, pues buscamos un resultado cercano a `1` para asumir que tenemos una relación de clases `1:1`; este resultado nos indica que hay una relación por la mitad o menor de la clase dominante con respecto a la otra, por lo que es importante realizar un ajuste en el balance de clases para intentar mejorar el desempeño del modelo.\n",
    "\n",
    "## Entrenamiento y evaluación de modelos (sin desequilibrio de clases)\n",
    "\n",
    "Por lo anteriormente evaluado en las métricas, debemos hacer un ajuste de clases con la intención de mejorar lo más posible la eficiencia del modelo. Tenemos tres enfoques posibles a utilizar y son los siguientes:\n",
    "\n",
    "- `Ajuste de peso de clase`: Es un híper parámetro que de forma automática, asigna pesos a las clases para poder balancearlas.\n",
    "- `Sobremuestreo`: Ajustar la clase con minoría al tamaño de la clase con mayoría.\n",
    "- `Submuestreo`: Ajustar la clase con mayoría al tamaño de la clase con minoría.\n",
    "\n",
    "Comenzaremos con enfoque de `ajuste de peso de clases`.\n",
    "\n",
    "### Ajuste de peso de clases\n",
    "\n",
    "Nuestro modelo tiene un hípero parámetro llamado `class_weight` el cual debe ser igualado a `balanced` para que el algoritmo de manera automática ajuste los pesos de clase. Por consiguiente debemos recrear el modelo utilizado con anterioridad para evaluar los híper parámetros con mejor desempeño tomando en cuenta `class_weight`.\n",
    "\n",
    "#### Ajuste para \"Bosques Aleatorios\""
   ]
  },
  {
   "cell_type": "code",
   "execution_count": 43,
   "id": "9227bcef",
   "metadata": {},
   "outputs": [
    {
     "name": "stdout",
     "output_type": "stream",
     "text": [
      "Accuracy del mejor modelo en el conjunto de validación (n_estimators = 150, criterion = gini, [max_depth,min_samples_split,min_samples_leaf] = 14 ): 0.8390536487837388\n"
     ]
    }
   ],
   "source": [
    "# Evaluación del modelo con sus híper parámetros\n",
    "best_score = 0\n",
    "best_estimator = 0\n",
    "criterion = ''\n",
    "max_depth = 0\n",
    "\n",
    "criterions = ['gini', 'entropy']\n",
    "for estimators in range(10,201,10):\n",
    "    for crit in criterions:\n",
    "        for rest in range(2,15):\n",
    "            rfc_model = RandomForestClassifier(random_state=12345,\n",
    "                                               n_estimators=estimators,\n",
    "                                               criterion=crit,\n",
    "                                               max_depth=rest,\n",
    "                                               min_samples_split=rest,\n",
    "                                               min_samples_leaf=rest, class_weight='balanced')\n",
    "            rfc_model.fit(X_train,y_train)\n",
    "            score = rfc_model.score(X_test,y_test)\n",
    "            if score > best_score:\n",
    "                best_score = score\n",
    "                best_estimator = estimators\n",
    "                criterion = crit\n",
    "                max_depth = rest\n",
    "\n",
    "print(\"Accuracy del mejor modelo en el conjunto de validación (n_estimators = {}, criterion = {}, [max_depth,min_samples_split,min_samples_leaf] = {} ): {}\".format(best_estimator, criterion, rest, best_score))\n",
    "    "
   ]
  },
  {
   "cell_type": "markdown",
   "id": "9bc21266",
   "metadata": {},
   "source": [
    "Podemos observar que de acuerdo al resultado, los híper parámetros que generan un mejor desempeño tomando en cuenta el balance de clases, son:\n",
    "- `n_estimators`: 150\n",
    "- `criterion`: gini\n",
    "- `max_depth`: 14\n",
    "- `min_samples_split`: 14\n",
    "- `min_samples_leaf`: 14\n",
    "\n",
    "Se construira el modelo bajo estos hípero parámetros y se someterá a la evaluación correspondiente por las métricas para validar su eficiencia."
   ]
  },
  {
   "cell_type": "code",
   "execution_count": 44,
   "id": "dec9e3a3",
   "metadata": {},
   "outputs": [],
   "source": [
    "# Construcción del modelo\n",
    "model_rfc = RandomForestClassifier(random_state=12345,n_estimators=150,criterion='gini',max_depth=14,min_samples_split=14,min_samples_leaf=14, class_weight='balanced')\n",
    "model_rfc.fit(X_train,y_train)\n",
    "result_rfc = model_rfc.predict(X_test)"
   ]
  },
  {
   "cell_type": "code",
   "execution_count": 45,
   "id": "a8cadbd5",
   "metadata": {},
   "outputs": [
    {
     "name": "stdout",
     "output_type": "stream",
     "text": [
      "El valor de \"RECALL\" es: 0.7099494097807757\n",
      "El valor de \"PRECISION\" es: 0.5488917861799217\n",
      "El valor de \"F1\" es: 0.6191176470588236\n"
     ]
    }
   ],
   "source": [
    "# Métricas de evauluación\n",
    "recall_rfc = recall_score(y_test,result_rfc)\n",
    "print('El valor de \"RECALL\" es:',recall_rfc)\n",
    "precision_rfc = precision_score(y_test,result_rfc)\n",
    "print('El valor de \"PRECISION\" es:',precision_rfc)\n",
    "f1_rfc = f1_score(y_test,result_rfc)\n",
    "print('El valor de \"F1\" es:',f1_rfc)"
   ]
  },
  {
   "cell_type": "markdown",
   "id": "83f21aa6",
   "metadata": {},
   "source": [
    "De los resultados podemos concluir lo siguiente:\n",
    "- `Recall`: De todos los valores positivos encontrados en las predicciones, vemos que el modelo aumento la comprensión de la clase positiva considerablemente.\n",
    "- `Precision`: Podemos observar una disminución en la tendencia por las clase positiva, es decir, se nota un balance mejor ajustado al momento de realizar predicciones.\n",
    "- `F1`: Podemos observar un aumento de relación entre clase y clase, sin embargo, podría no considerarse suficiente aun pues si bien no es posible que la relación sea `1:1`, podemos buscar lo más cercano a este valor.\n",
    "\n",
    "#### Ajuste para \"Árboles de decisión\""
   ]
  },
  {
   "cell_type": "code",
   "execution_count": 46,
   "id": "4bb372c2",
   "metadata": {},
   "outputs": [
    {
     "name": "stdout",
     "output_type": "stream",
     "text": [
      "Accuracy del mejor modelo en el conjunto de validación (max_depth = 5, criterion = gini, [min_samples_split, min_samples_leaf] = 10): 0.7807397534155281\n"
     ]
    }
   ],
   "source": [
    "# Evaluación del modelo con sus híper parámetros\n",
    "best_score = 0\n",
    "best_depth = 0\n",
    "criterion = ''\n",
    "min_samples_split = 0\n",
    "criterions = [\"gini\", \"entropy\"]\n",
    "\n",
    "for depth in range(1,15):\n",
    "    for crit in criterions:\n",
    "        for rest in range(2,15):\n",
    "            dtc_model = DecisionTreeClassifier(random_state=12345,\n",
    "                                               max_depth=depth, criterion=crit, \n",
    "                                               min_samples_split=rest,\n",
    "                                               min_samples_leaf=rest,\n",
    "                                               class_weight='balanced')\n",
    "            dtc_model.fit(X_train,y_train)\n",
    "            score = dtc_model.score(X_test,y_test)\n",
    "            if score > best_score:\n",
    "                best_score = score\n",
    "                best_depth = depth\n",
    "                criterion = crit\n",
    "                min_samples_split = rest\n",
    "        \n",
    "print(\"Accuracy del mejor modelo en el conjunto de validación (max_depth = {}, criterion = {}, [min_samples_split, min_samples_leaf] = {}): {}\".format(best_depth, criterion, min_samples_split, best_score))"
   ]
  },
  {
   "cell_type": "markdown",
   "id": "4d423342",
   "metadata": {},
   "source": [
    "Podemos observar que de acuerdo al resultado, los híper parámetros que generan un mejor desempeño tomando en cuenta el balance de clases, son:\n",
    "- `max_depth`: 5\n",
    "- `criterion`: gini\n",
    "- `min_samples_split`: 10\n",
    "- `min_samples_leaf`: 10\n",
    "\n",
    "Se construira el modelo bajo estos hípero parámetros y se someterá a la evaluación correspondiente por las métricas para validar su eficiencia."
   ]
  },
  {
   "cell_type": "code",
   "execution_count": 47,
   "id": "91145c59",
   "metadata": {},
   "outputs": [],
   "source": [
    "# Construcción del modelo\n",
    "model_dtc = DecisionTreeClassifier(random_state=12345,criterion='gini',max_depth=5,min_samples_split=10,min_samples_leaf=10, class_weight='balanced')\n",
    "model_dtc.fit(X_train,y_train)\n",
    "result_dtc = model_dtc.predict(X_test)"
   ]
  },
  {
   "cell_type": "code",
   "execution_count": 48,
   "id": "8cfa2d8d",
   "metadata": {},
   "outputs": [
    {
     "name": "stdout",
     "output_type": "stream",
     "text": [
      "El valor de \"RECALL\" es: 0.7521079258010118\n",
      "El valor de \"PRECISION\" es: 0.4660397074190178\n",
      "El valor de \"F1\" es: 0.575483870967742\n"
     ]
    }
   ],
   "source": [
    "# Métricas de evauluación\n",
    "recall_dtc = recall_score(y_test,result_dtc)\n",
    "print('El valor de \"RECALL\" es:',recall_dtc)\n",
    "precision_dtc = precision_score(y_test,result_dtc)\n",
    "print('El valor de \"PRECISION\" es:',precision_dtc)\n",
    "f1_dtc = f1_score(y_test,result_dtc)\n",
    "print('El valor de \"F1\" es:',f1_dtc)"
   ]
  },
  {
   "cell_type": "markdown",
   "id": "0159badb",
   "metadata": {},
   "source": [
    "De los resultados podemos concluir lo siguiente:\n",
    "- `Recall`: De todos los valores positivos encontrados en las predicciones, vemos que el modelo aumento la comprensión de la clase positiva considerablemente.\n",
    "- `Precision`: Podemos observar una disminución en la tendencia por las clase positiva, es decir, se nota un balance mejor ajustado al momento de realizar predicciones.\n",
    "- `F1`: Podemos observar un aumento de relación entre clase y clase, sin embargo, podría no considerarse suficiente aun pues si bien no es posible que la relación sea `1:1`, por el momento el mejor modelo es `Bosques Aleatorios`.\n",
    "\n",
    "#### Ajuste para \"Regresión logística\""
   ]
  },
  {
   "cell_type": "code",
   "execution_count": 49,
   "id": "409c6f52",
   "metadata": {},
   "outputs": [],
   "source": [
    "# Creación del modelo\n",
    "model_lrc = LogisticRegression(random_state=12345,solver='liblinear',class_weight='balanced')\n",
    "model_lrc.fit(X_train,y_train)\n",
    "result_lrc = model_lrc.predict(X_test)"
   ]
  },
  {
   "cell_type": "code",
   "execution_count": 50,
   "id": "cbd461b3",
   "metadata": {},
   "outputs": [
    {
     "name": "stdout",
     "output_type": "stream",
     "text": [
      "El valor de \"RECALL\" es: 0.7200674536256324\n",
      "El valor de \"PRECISION\" es: 0.3775419982316534\n",
      "El valor de \"F1\" es: 0.49535962877030165\n"
     ]
    }
   ],
   "source": [
    "# Métricas de evauluación\n",
    "recall_lrc = recall_score(y_test,result_lrc)\n",
    "print('El valor de \"RECALL\" es:',recall_lrc)\n",
    "precision_lrc = precision_score(y_test,result_lrc)\n",
    "print('El valor de \"PRECISION\" es:',precision_lrc)\n",
    "f1_lrc = f1_score(y_test,result_lrc)\n",
    "print('El valor de \"F1\" es:',f1_lrc)"
   ]
  },
  {
   "cell_type": "markdown",
   "id": "0025fc80",
   "metadata": {},
   "source": [
    "Evaluemos nuevamente las métricas bajo el enfoque de `sobremuestreo`.\n",
    "\n",
    "### Sobremuestreo\n",
    "\n",
    "El sobremuestreo se realiza en varios pasos:\n",
    "\n",
    "- Dividir el conjunto de datos de entrenamiento en observaciones negativas y positivas;\n",
    "- Duplicar las observaciones positivas (las que tienen ocurrencias raras) varias veces;\n",
    "- Crear una nueva muestra de entrenamiento basada en los datos obtenidos;\n",
    "- Barajar los datos: preguntas idénticas que se suceden no ayudarán al entrenamiento."
   ]
  },
  {
   "cell_type": "code",
   "execution_count": 52,
   "id": "0a26fcc4",
   "metadata": {},
   "outputs": [],
   "source": [
    "# Función de sobremuestreo\n",
    "def upsample(features, target, repeat):\n",
    "    features_zeros = features[target == 0]\n",
    "    features_ones = features[target == 1]\n",
    "    target_zeros = target[target == 0]\n",
    "    target_ones = target[target == 1]\n",
    "\n",
    "    features_upsampled = pd.concat([features_zeros] + [features_ones] * repeat)\n",
    "    target_upsampled = pd.concat([target_zeros] + [target_ones] * repeat)\n",
    "\n",
    "    features_upsampled, target_upsampled = shuffle(\n",
    "        features_upsampled, target_upsampled, random_state=12345\n",
    "    )\n",
    "\n",
    "    return features_upsampled, target_upsampled"
   ]
  },
  {
   "cell_type": "code",
   "execution_count": 53,
   "id": "974a7b7d",
   "metadata": {},
   "outputs": [
    {
     "name": "stdout",
     "output_type": "stream",
     "text": [
      "0    7237\n",
      "1    1854\n",
      "Name: exited, dtype: int64\n",
      "Relación de clases aproximada: 3.9034519956850056\n"
     ]
    }
   ],
   "source": [
    "# Validación de la clase con más presencia\n",
    "relacion = y.value_counts()\n",
    "print(relacion)\n",
    "print('Relación de clases aproximada:',relacion[0]/relacion[1])"
   ]
  },
  {
   "cell_type": "code",
   "execution_count": 54,
   "id": "6d7e3df0",
   "metadata": {},
   "outputs": [],
   "source": [
    "# Ejecutando sobremuestreo\n",
    "x_upsampled, y_upsampled = upsample(X_train, y_train, 4)"
   ]
  },
  {
   "cell_type": "markdown",
   "id": "67b2aa30",
   "metadata": {},
   "source": [
    "Ahora aplicaremos el `sobremuestreo` al algoritmo de `Bosques aleatorios` para evaluar su desempeño bajo diversos híper parámetros y nuevamente someterlo a la evaluación de métricas para validar su eficiencia.\n",
    "\n",
    "#### Sobremuestro para \"Bosques Aleatorios\""
   ]
  },
  {
   "cell_type": "code",
   "execution_count": 55,
   "id": "b61d81b2",
   "metadata": {},
   "outputs": [
    {
     "name": "stdout",
     "output_type": "stream",
     "text": [
      "Accuracy del mejor modelo en el conjunto de validación (n_estimators = 70, criterion = entropy, [max_depth,min_samples_split,min_samples_leaf] = 14 ): 0.8257247584138621\n"
     ]
    }
   ],
   "source": [
    "# Evaluación del modelo con sus híper parámetros\n",
    "best_score = 0\n",
    "best_estimator = 0\n",
    "criterion = ''\n",
    "max_depth = 0\n",
    "\n",
    "criterions = ['gini', 'entropy']\n",
    "for estimators in range(10,201,10):\n",
    "    for crit in criterions:\n",
    "        for rest in range(2,15):\n",
    "            rfc_model = RandomForestClassifier(random_state=12345,\n",
    "                                               n_estimators=estimators,\n",
    "                                               criterion=crit,\n",
    "                                               max_depth=rest,\n",
    "                                               min_samples_split=rest,\n",
    "                                               min_samples_leaf=rest)\n",
    "            rfc_model.fit(x_upsampled,y_upsampled)\n",
    "            score = rfc_model.score(X_test,y_test)\n",
    "            if score > best_score:\n",
    "                best_score = score\n",
    "                best_estimator = estimators\n",
    "                criterion = crit\n",
    "                max_depth = rest\n",
    "\n",
    "print(\"Accuracy del mejor modelo en el conjunto de validación (n_estimators = {}, criterion = {}, [max_depth,min_samples_split,min_samples_leaf] = {} ): {}\".format(best_estimator, criterion, rest, best_score))\n",
    "    "
   ]
  },
  {
   "cell_type": "code",
   "execution_count": 56,
   "id": "c77fed00",
   "metadata": {},
   "outputs": [],
   "source": [
    "# Construcción del modelo\n",
    "model_rfc = RandomForestClassifier(random_state=12345,n_estimators=70,criterion='entropy',max_depth=14,min_samples_split=14,min_samples_leaf=14)\n",
    "model_rfc.fit(x_upsampled,y_upsampled)\n",
    "result_rfc = model_rfc.predict(X_test)"
   ]
  },
  {
   "cell_type": "code",
   "execution_count": 57,
   "id": "7f57a750",
   "metadata": {},
   "outputs": [
    {
     "name": "stdout",
     "output_type": "stream",
     "text": [
      "El valor de \"RECALL\" es: 0.7268128161888702\n",
      "El valor de \"PRECISION\" es: 0.5294840294840295\n",
      "El valor de \"F1\" es: 0.6126510305614784\n"
     ]
    }
   ],
   "source": [
    "# Métricas de evauluación\n",
    "recall_rfc = recall_score(y_test,result_rfc)\n",
    "print('El valor de \"RECALL\" es:',recall_rfc)\n",
    "precision_rfc = precision_score(y_test,result_rfc)\n",
    "print('El valor de \"PRECISION\" es:',precision_rfc)\n",
    "f1_rfc = f1_score(y_test,result_rfc)\n",
    "print('El valor de \"F1\" es:',f1_rfc)"
   ]
  },
  {
   "cell_type": "markdown",
   "id": "8af9ec71",
   "metadata": {},
   "source": [
    "De los resultados podemos concluir lo siguiente:\n",
    "- `Recall`: De todos los valores positivos encontrados en las predicciones, vemos que el modelo aumento la comprensión de la clase positiva considerablemente.\n",
    "- `Precision`: Podemos observar una disminución en la tendencia por las clase positiva, es decir, se nota un balance mejor ajustado al momento de realizar predicciones.\n",
    "- `F1`: Podemos observar un aumento de relación entre clase y clase, sin embargo, podría no considerarse suficiente aun pues si bien no es posible que la relación sea `1:1`, podemos buscar lo más cercano a este valor.\n",
    "\n",
    "#### Sobremuestreo para \"Árboles de decisión\""
   ]
  },
  {
   "cell_type": "code",
   "execution_count": 60,
   "id": "7655dc97",
   "metadata": {},
   "outputs": [
    {
     "name": "stdout",
     "output_type": "stream",
     "text": [
      "Accuracy del mejor modelo en el conjunto de validación (max_depth = 5, criterion = gini, [min_samples_split, min_samples_leaf] = 11): 0.7800733088970343\n"
     ]
    }
   ],
   "source": [
    "# Evaluación del modelo con sus híper parámetros\n",
    "best_score = 0\n",
    "best_depth = 0\n",
    "criterion = ''\n",
    "min_samples_split = 0\n",
    "criterions = [\"gini\", \"entropy\"]\n",
    "\n",
    "for depth in range(1,15):\n",
    "    for crit in criterions:\n",
    "        for rest in range(2,15):\n",
    "            dtc_model = DecisionTreeClassifier(random_state=12345,\n",
    "                                               max_depth=depth, criterion=crit, \n",
    "                                               min_samples_split=rest,\n",
    "                                               min_samples_leaf=rest)\n",
    "            dtc_model.fit(x_upsampled,y_upsampled)\n",
    "            score = dtc_model.score(X_test,y_test)\n",
    "            if score > best_score:\n",
    "                best_score = score\n",
    "                best_depth = depth\n",
    "                criterion = crit\n",
    "                min_samples_split = rest\n",
    "        \n",
    "print(\"Accuracy del mejor modelo en el conjunto de validación (max_depth = {}, criterion = {}, [min_samples_split, min_samples_leaf] = {}): {}\".format(best_depth, criterion, min_samples_split, best_score))"
   ]
  },
  {
   "cell_type": "code",
   "execution_count": 61,
   "id": "95350eb9",
   "metadata": {},
   "outputs": [],
   "source": [
    "# Construcción del modelo\n",
    "model_dtc = DecisionTreeClassifier(random_state=12345,criterion='gini',max_depth=5,min_samples_split=11,min_samples_leaf=11)\n",
    "model_dtc.fit(x_upsampled,y_upsampled)\n",
    "result_dtc = model_dtc.predict(X_test)"
   ]
  },
  {
   "cell_type": "code",
   "execution_count": 62,
   "id": "cb539eb5",
   "metadata": {},
   "outputs": [
    {
     "name": "stdout",
     "output_type": "stream",
     "text": [
      "El valor de \"RECALL\" es: 0.7504215851602024\n",
      "El valor de \"PRECISION\" es: 0.46499477533960293\n",
      "El valor de \"F1\" es: 0.5741935483870968\n"
     ]
    }
   ],
   "source": [
    "# Métricas de evauluación\n",
    "recall_dtc = recall_score(y_test,result_dtc)\n",
    "print('El valor de \"RECALL\" es:',recall_dtc)\n",
    "precision_dtc = precision_score(y_test,result_dtc)\n",
    "print('El valor de \"PRECISION\" es:',precision_dtc)\n",
    "f1_dtc = f1_score(y_test,result_dtc)\n",
    "print('El valor de \"F1\" es:',f1_dtc)"
   ]
  },
  {
   "cell_type": "markdown",
   "id": "8f0a3352",
   "metadata": {},
   "source": [
    "De los resultados podemos concluir lo siguiente:\n",
    "- `Recall`: De todos los valores positivos encontrados en las predicciones, vemos que el modelo aumento la comprensión de la clase positiva considerablemente.\n",
    "- `Precision`: Podemos observar una disminución en la tendencia por las clase positiva, es decir, se nota un balance mejor ajustado al momento de realizar predicciones.\n",
    "- `F1`: Podemos observar un aumento de relación entre clase y clase, sin embargo, podría no considerarse suficiente aun pues si bien no es posible que la relación sea `1:1`, por el momento el mejor modelo es `Bosques Aleatorios`.\n",
    "\n",
    "#### Sobremuestreo para \"Regresión logística\""
   ]
  },
  {
   "cell_type": "code",
   "execution_count": 63,
   "id": "ee80a121",
   "metadata": {},
   "outputs": [],
   "source": [
    "# Creación del modelo\n",
    "model_lrc = LogisticRegression(random_state=12345,solver='liblinear')\n",
    "model_lrc.fit(x_upsampled,y_upsampled)\n",
    "result_lrc = model_lrc.predict(X_test)"
   ]
  },
  {
   "cell_type": "code",
   "execution_count": 64,
   "id": "fd2faa6b",
   "metadata": {},
   "outputs": [
    {
     "name": "stdout",
     "output_type": "stream",
     "text": [
      "El valor de \"RECALL\" es: 0.7099494097807757\n",
      "El valor de \"PRECISION\" es: 0.3354581673306773\n",
      "El valor de \"F1\" es: 0.4556277056277056\n"
     ]
    }
   ],
   "source": [
    "# Métricas de evauluación\n",
    "recall_lrc = recall_score(y_test,result_lrc)\n",
    "print('El valor de \"RECALL\" es:',recall_lrc)\n",
    "precision_lrc = precision_score(y_test,result_lrc)\n",
    "print('El valor de \"PRECISION\" es:',precision_lrc)\n",
    "f1_lrc = f1_score(y_test,result_lrc)\n",
    "print('El valor de \"F1\" es:',f1_lrc)"
   ]
  },
  {
   "cell_type": "markdown",
   "id": "c8a701b8",
   "metadata": {},
   "source": [
    "Para el criterio de `sobremuestreo` podemos observar de acuerdo a los resultados que el algorítmo que muestra el mejor desempeño es `Bosques Aleatorios`.\n",
    "\n",
    "Por último, se aplicará el enfoque de `submuestreo`.\n",
    "\n",
    "### Submuestreo\n",
    "\n",
    "El submuestreo se realiza en varios pasos:\n",
    "\n",
    "- Dividir el conjunto de datos de entrenamiento en observaciones negativas y positivas;\n",
    "- Soltar al azar una parte de las observaciones negativas;\n",
    "- Crear una nueva muestra de entrenamiento basada en los datos obtenidos después de la caída;\n",
    "- Mezclar los datos. Asegúrate de que los datos positivos no sigan a los negativos: esto dificultará que los algoritmos aprendan."
   ]
  },
  {
   "cell_type": "code",
   "execution_count": 65,
   "id": "8d1b6c50",
   "metadata": {},
   "outputs": [],
   "source": [
    "# Función de submuestreo\n",
    "def downsample(features, target, fraction):\n",
    "    features_zeros = features[target == 0]\n",
    "    features_ones = features[target == 1]\n",
    "    target_zeros = target[target == 0]\n",
    "    target_ones = target[target == 1]\n",
    "\n",
    "    features_downsampled = pd.concat(\n",
    "        [features_zeros.sample(frac=fraction, random_state=12345)]\n",
    "        + [features_ones]\n",
    "    )\n",
    "    target_downsampled = pd.concat(\n",
    "        [target_zeros.sample(frac=fraction, random_state=12345)]\n",
    "        + [target_ones]\n",
    "    )\n",
    "\n",
    "    features_downsampled, target_downsampled = shuffle(\n",
    "        features_downsampled, target_downsampled, random_state=12345\n",
    "    )\n",
    "\n",
    "    return features_downsampled, target_downsampled"
   ]
  },
  {
   "cell_type": "code",
   "execution_count": 66,
   "id": "5b79f7eb",
   "metadata": {},
   "outputs": [],
   "source": [
    "# Ejecutando submuestreo\n",
    "X_downsampled, y_downsampled = downsample(X_train, y_train, 0.25)"
   ]
  },
  {
   "cell_type": "markdown",
   "id": "4b74ebe9",
   "metadata": {},
   "source": [
    "#### Submuestreo para \"Bosques Aleatorios\""
   ]
  },
  {
   "cell_type": "code",
   "execution_count": 67,
   "id": "3543bd5a",
   "metadata": {},
   "outputs": [
    {
     "name": "stdout",
     "output_type": "stream",
     "text": [
      "Accuracy del mejor modelo en el conjunto de validación (n_estimators = 40, criterion = gini, [max_depth,min_samples_split,min_samples_leaf] = 14 ): 0.7907364211929356\n"
     ]
    }
   ],
   "source": [
    "# Evaluación del modelo con sus híper parámetros\n",
    "best_score = 0\n",
    "best_estimator = 0\n",
    "criterion = ''\n",
    "max_depth = 0\n",
    "\n",
    "criterions = ['gini', 'entropy']\n",
    "for estimators in range(10,201,10):\n",
    "    for crit in criterions:\n",
    "        for rest in range(2,15):\n",
    "            rfc_model = RandomForestClassifier(random_state=12345,\n",
    "                                               n_estimators=estimators,\n",
    "                                               criterion=crit,\n",
    "                                               max_depth=rest,\n",
    "                                               min_samples_split=rest,\n",
    "                                               min_samples_leaf=rest)\n",
    "            rfc_model.fit(X_downsampled, y_downsampled)\n",
    "            score = rfc_model.score(X_test,y_test)\n",
    "            if score > best_score:\n",
    "                best_score = score\n",
    "                best_estimator = estimators\n",
    "                criterion = crit\n",
    "                max_depth = rest\n",
    "\n",
    "print(\"Accuracy del mejor modelo en el conjunto de validación (n_estimators = {}, criterion = {}, [max_depth,min_samples_split,min_samples_leaf] = {} ): {}\".format(best_estimator, criterion, rest, best_score))\n",
    "    "
   ]
  },
  {
   "cell_type": "code",
   "execution_count": 70,
   "id": "eb6ac7e6",
   "metadata": {},
   "outputs": [],
   "source": [
    "# Construcción del modelo\n",
    "model_rfc = RandomForestClassifier(random_state=12345,n_estimators=40,criterion='gini',max_depth=14,min_samples_split=14,min_samples_leaf=14)\n",
    "model_rfc.fit(X_downsampled, y_downsampled)\n",
    "result_rfc = model_rfc.predict(X_test)"
   ]
  },
  {
   "cell_type": "code",
   "execution_count": 71,
   "id": "840173f5",
   "metadata": {},
   "outputs": [
    {
     "name": "stdout",
     "output_type": "stream",
     "text": [
      "El valor de \"RECALL\" es: 0.7841483979763912\n",
      "El valor de \"PRECISION\" es: 0.48186528497409326\n",
      "El valor de \"F1\" es: 0.5969191270860077\n"
     ]
    }
   ],
   "source": [
    "# Métricas de evauluación\n",
    "recall_rfc = recall_score(y_test,result_rfc)\n",
    "print('El valor de \"RECALL\" es:',recall_rfc)\n",
    "precision_rfc = precision_score(y_test,result_rfc)\n",
    "print('El valor de \"PRECISION\" es:',precision_rfc)\n",
    "f1_rfc = f1_score(y_test,result_rfc)\n",
    "print('El valor de \"F1\" es:',f1_rfc)"
   ]
  },
  {
   "cell_type": "markdown",
   "id": "618f4736",
   "metadata": {},
   "source": [
    "Al utilizar el enfoque de `submuestreo` podemos observar un mejoramiento considerable en la compresión de los valores positivos sin tendencia a alguna de las clases.\n",
    "\n",
    "#### Submuestreo para \"Árboles de decisión\""
   ]
  },
  {
   "cell_type": "code",
   "execution_count": 72,
   "id": "acf8f4a8",
   "metadata": {},
   "outputs": [
    {
     "name": "stdout",
     "output_type": "stream",
     "text": [
      "Accuracy del mejor modelo en el conjunto de validación (max_depth = 6, criterion = entropy, [min_samples_split, min_samples_leaf] = 14): 0.7737420859713429\n"
     ]
    }
   ],
   "source": [
    "# Evaluación del modelo con sus híper parámetros\n",
    "best_score = 0\n",
    "best_depth = 0\n",
    "criterion = ''\n",
    "min_samples_split = 0\n",
    "criterions = [\"gini\", \"entropy\"]\n",
    "\n",
    "for depth in range(1,15):\n",
    "    for crit in criterions:\n",
    "        for rest in range(2,15):\n",
    "            dtc_model = DecisionTreeClassifier(random_state=12345,\n",
    "                                               max_depth=depth, criterion=crit, \n",
    "                                               min_samples_split=rest,\n",
    "                                               min_samples_leaf=rest)\n",
    "            dtc_model.fit(X_downsampled, y_downsampled)\n",
    "            score = dtc_model.score(X_test,y_test)\n",
    "            if score > best_score:\n",
    "                best_score = score\n",
    "                best_depth = depth\n",
    "                criterion = crit\n",
    "                min_samples_split = rest\n",
    "        \n",
    "print(\"Accuracy del mejor modelo en el conjunto de validación (max_depth = {}, criterion = {}, [min_samples_split, min_samples_leaf] = {}): {}\".format(best_depth, criterion, min_samples_split, best_score))"
   ]
  },
  {
   "cell_type": "code",
   "execution_count": 73,
   "id": "8c19d940",
   "metadata": {},
   "outputs": [],
   "source": [
    "# Construcción del modelo\n",
    "model_dtc = DecisionTreeClassifier(random_state=12345,criterion='entropy',max_depth=6,min_samples_split=14,min_samples_leaf=14)\n",
    "model_dtc.fit(X_downsampled, y_downsampled)\n",
    "result_dtc = model_dtc.predict(X_test)"
   ]
  },
  {
   "cell_type": "code",
   "execution_count": 74,
   "id": "2d092883",
   "metadata": {},
   "outputs": [
    {
     "name": "stdout",
     "output_type": "stream",
     "text": [
      "El valor de \"RECALL\" es: 0.7875210792580101\n",
      "El valor de \"PRECISION\" es: 0.45784313725490194\n",
      "El valor de \"F1\" es: 0.5790452572845629\n"
     ]
    }
   ],
   "source": [
    "# Métricas de evauluación\n",
    "recall_dtc = recall_score(y_test,result_dtc)\n",
    "print('El valor de \"RECALL\" es:',recall_dtc)\n",
    "precision_dtc = precision_score(y_test,result_dtc)\n",
    "print('El valor de \"PRECISION\" es:',precision_dtc)\n",
    "f1_dtc = f1_score(y_test,result_dtc)\n",
    "print('El valor de \"F1\" es:',f1_dtc)"
   ]
  },
  {
   "cell_type": "markdown",
   "id": "41fcf3b0",
   "metadata": {},
   "source": [
    "#### Submuestreo para \"Regresión logística\""
   ]
  },
  {
   "cell_type": "code",
   "execution_count": 75,
   "id": "f6da5844",
   "metadata": {},
   "outputs": [],
   "source": [
    "# Creación del modelo\n",
    "model_lrc = LogisticRegression(random_state=12345,solver='liblinear')\n",
    "model_lrc.fit(X_downsampled, y_downsampled)\n",
    "result_lrc = model_lrc.predict(X_test)"
   ]
  },
  {
   "cell_type": "code",
   "execution_count": 76,
   "id": "8b5870d7",
   "metadata": {},
   "outputs": [
    {
     "name": "stdout",
     "output_type": "stream",
     "text": [
      "El valor de \"RECALL\" es: 0.7133220910623946\n",
      "El valor de \"PRECISION\" es: 0.32790697674418606\n",
      "El valor de \"F1\" es: 0.44928305894848647\n"
     ]
    }
   ],
   "source": [
    "# Métricas de evauluación\n",
    "recall_lrc = recall_score(y_test,result_lrc)\n",
    "print('El valor de \"RECALL\" es:',recall_lrc)\n",
    "precision_lrc = precision_score(y_test,result_lrc)\n",
    "print('El valor de \"PRECISION\" es:',precision_lrc)\n",
    "f1_lrc = f1_score(y_test,result_lrc)\n",
    "print('El valor de \"F1\" es:',f1_lrc)"
   ]
  },
  {
   "cell_type": "markdown",
   "id": "5469f2af",
   "metadata": {},
   "source": [
    "Nuevamente en cuanto a desempeño podemos observar que bajo el enfoque de `submuestreo` el modelo que arroja las mejores métricas es `Bosques Aleatorios`. Por tal motivo, haremos uso de este algoritmo.\n",
    "\n",
    "# Evaluación del modelo de \"Bosques Aleatorios\" bajo todos los criterios\n",
    "## Ajuste de pesos"
   ]
  },
  {
   "cell_type": "code",
   "execution_count": 77,
   "id": "9365ddab",
   "metadata": {},
   "outputs": [
    {
     "name": "stdout",
     "output_type": "stream",
     "text": [
      "Desempeño de: 0.8273908697100967\n"
     ]
    }
   ],
   "source": [
    "# Construcción del modelo\n",
    "model_rfc_pesos = RandomForestClassifier(random_state=12345,n_estimators=150,criterion='gini',max_depth=14,min_samples_split=14,min_samples_leaf=14, class_weight='balanced')\n",
    "model_rfc_pesos.fit(X_train,y_train)\n",
    "score_pesos = model_rfc_pesos.score(X_test,y_test)\n",
    "print('Desempeño de:',score_pesos)\n"
   ]
  },
  {
   "cell_type": "markdown",
   "id": "70a26457",
   "metadata": {},
   "source": [
    "## Sobremuestreo"
   ]
  },
  {
   "cell_type": "code",
   "execution_count": 78,
   "id": "2d18c66d",
   "metadata": {},
   "outputs": [
    {
     "name": "stdout",
     "output_type": "stream",
     "text": [
      "Desempeño de: 0.8183938687104299\n"
     ]
    }
   ],
   "source": [
    "# Construcción del modelo\n",
    "model_rfc_sobremuestreo = RandomForestClassifier(random_state=12345,n_estimators=70,criterion='entropy',max_depth=14,min_samples_split=14,min_samples_leaf=14)\n",
    "model_rfc_sobremuestreo.fit(x_upsampled,y_upsampled)\n",
    "score_sobremuestreo = model_rfc_sobremuestreo.score(X_test,y_test)\n",
    "print('Desempeño de:',score_sobremuestreo)\n"
   ]
  },
  {
   "cell_type": "markdown",
   "id": "e5c446f7",
   "metadata": {},
   "source": [
    "## Submuestreo"
   ]
  },
  {
   "cell_type": "code",
   "execution_count": 79,
   "id": "01f86050",
   "metadata": {},
   "outputs": [
    {
     "name": "stdout",
     "output_type": "stream",
     "text": [
      "Desempeño de: 0.7907364211929356\n"
     ]
    }
   ],
   "source": [
    "# Construcción del modelo\n",
    "model_rfc_submuestreo = RandomForestClassifier(random_state=12345,n_estimators=40,criterion='gini',max_depth=14,min_samples_split=14,min_samples_leaf=14)\n",
    "model_rfc_submuestreo.fit(X_downsampled, y_downsampled)\n",
    "score_submuestreo = model_rfc_submuestreo.score(X_test,y_test)\n",
    "print('Desempeño de:',score_submuestreo)\n"
   ]
  },
  {
   "cell_type": "markdown",
   "id": "02311162",
   "metadata": {},
   "source": [
    "Como podemos observar, tenemos un desempeño considerablemente bueno, un poco menor en comparación con el entrenamiento del modelo sin tomar el cuenta el desbalance de clases. En concreto a este punto si bien no tenemos la misma métrica podemos confiar más en las predicciones realizadas una vez considerando y ajustando toda la información. Procederemos con la visualización del desempeño del modelo tranzando la curva `característica operativa del receptor` llamado `ROC` que nos permite contrastar la calidad del modelo en comparación con un modelo aleatorio.\n",
    "\n",
    "## ROC (Característica Operativa del Receptor)"
   ]
  },
  {
   "cell_type": "code",
   "execution_count": 83,
   "id": "2d593820",
   "metadata": {},
   "outputs": [
    {
     "data": {
      "image/png": "[encoded data removed]",
      "text/plain": [
       "<Figure size 1080x432 with 1 Axes>"
      ]
     },
     "metadata": {
      "needs_background": "light"
     },
     "output_type": "display_data"
    }
   ],
   "source": [
    "# Graficando ROC\n",
    "probabilities_valid_pesos = model_rfc_pesos.predict_proba(X_test)\n",
    "probabilities_one_valid_pesos = probabilities_valid_pesos[:, 1]\n",
    "fpr_pesos, tpr_pesos, thresholds_pesos = roc_curve(y_test,probabilities_one_valid_pesos)\n",
    "\n",
    "probabilities_valid_sobremuestreo = model_rfc_sobremuestreo.predict_proba(X_test)\n",
    "probabilities_one_valid_sobremuestreo = probabilities_valid_sobremuestreo[:, 1]\n",
    "fpr_sobremuestreo, tpr_sobremuestreo, thresholds_sobremuestreo = roc_curve(y_test,probabilities_one_valid_sobremuestreo)\n",
    "\n",
    "probabilities_valid_submuestreo = model_rfc_sobremuestreo.predict_proba(X_test)\n",
    "probabilities_one_valid_submuestreo = probabilities_valid_submuestreo[:, 1]\n",
    "fpr_submuestreo, tpr_submuestreo, thresholds_submuestreo = roc_curve(y_test,probabilities_one_valid_submuestreo)\n",
    "\n",
    "plt.figure(figsize=(15,6))\n",
    "plt.plot(fpr_pesos,tpr_pesos,color='red')\n",
    "plt.plot(fpr_sobremuestreo,tpr_sobremuestreo,color='green')\n",
    "plt.plot(fpr_submuestreo,tpr_submuestreo,color='yellow')\n",
    "\n",
    "# Curva ROC para modelo aleatorio (parece una línea recta)\n",
    "plt.plot([0, 1], [0, 1], linestyle='--')\n",
    "\n",
    "# Límites para los ejes de 0 a 1 \n",
    "plt.xlim([0.0,1.0])\n",
    "plt.ylim([0.0,1.0])\n",
    "\n",
    "# Nombre de los ejes \"Tasa de falsos positivos\" y \"Tasa de verdaderos positivos\"\n",
    "plt.xlabel(\"Tasa de falsos positivos\")\n",
    "plt.ylabel(\"Tasa de verdaderos positivos\")\n",
    "plt.title(\"Curva ROC\")\n",
    "plt.show()"
   ]
  },
  {
   "cell_type": "markdown",
   "id": "021ffe81",
   "metadata": {},
   "source": [
    "Como podemos observar las curvas se encuentran por encima de la línea recta, esto nos indica que la `tasa de verdaderos positivos` se encuentra por encima de un modelo líneal y por tanto sus predicciones son mejores así también su calidad. Para saber cuanto difiere el modelo de predicción del modelo líneal debemos calcular `AUC-ROC (Área Bajo la Curva ROC)`.\n",
    "\n",
    "## AUC-ROC (Área Bajo la Curva ROC)"
   ]
  },
  {
   "cell_type": "code",
   "execution_count": 84,
   "id": "edade8f7",
   "metadata": {},
   "outputs": [
    {
     "name": "stdout",
     "output_type": "stream",
     "text": [
      "AUC-ROC para 'Ajuste de pesos': 0.8708044573176539\n",
      "AUC-ROC para 'Sobremuestreo': 0.8701489694273725\n",
      "AUC-ROC para 'Submuestreo': 0.8701489694273725\n"
     ]
    }
   ],
   "source": [
    "# Calculando \"AUC-ROC\"\n",
    "auc_roc_pesos = roc_auc_score(y_test,probabilities_one_valid_pesos)\n",
    "auc_roc_sobremuestreo = roc_auc_score(y_test,probabilities_one_valid_sobremuestreo)\n",
    "auc_roc_submuestreo = roc_auc_score(y_test,probabilities_one_valid_submuestreo)\n",
    "\n",
    "print(\"AUC-ROC para 'Ajuste de pesos':\",auc_roc_pesos)\n",
    "print(\"AUC-ROC para 'Sobremuestreo':\",auc_roc_sobremuestreo)\n",
    "print(\"AUC-ROC para 'Submuestreo':\",auc_roc_submuestreo)"
   ]
  },
  {
   "cell_type": "markdown",
   "id": "f4639ca2",
   "metadata": {},
   "source": [
    "El área bajo la curva es de al menos `87%` aproximadamente, esto quiere decir que tenemos un modelo de calidad aceptable que con refuerzo de reentrenamiento puede mejorar su calidad sin perder de vista todo lo anteriormente realizado y el enfoque ligeramente con mejor desempeño fue el `Ajuste de pesos` con una ligera área superior que los restantes.\n",
    "\n",
    "# Conclusiones\n",
    "\n",
    "Trabajando este proyecto se reforzo lo visto durante el sprint ademas de entender con más detalle las métricas de evaluación de calidad de los modelos de clasificación. Es importante entender las demandas del problema pues de esto depende el punto de partida para abordarlo, primeramente trabajando los datos al punto de tener información relevante para el modelo y de calidad. Posteriormente identificar de que tipo de problema es el que tenemos enfrente pues de esto depende el modelo de machine learning a utilizar que para este caso fue un modelo de `clasificación`.\n",
    "\n",
    "Una vez identificando el tipo de problema debemos trabajar con los datos contenidos en nuestro set pues para este problema fue necesario hacer uso técnicas de etiquetación, esto con el fin de poder convetir a números los datos categóricos pues los modelos unicaménte pueden procesar datos numéricos. Al mismo tiempo que se trabajan los datos categóricos debemos conocer como es el funcionamiento del algorítmo, si bien no a detalle, saber superficialmente como trabaja pues de esto depende el consumo de información que realizara. Para el caso de los modelos que trabajan basados en árboles se debe usan usar técnicas de `codificación de etiquetas` estos es porque este tipo de algoritmos no reciben la información de forma masiva, reciben fila a fila y de esa forma trabajan los datos, ademas cuando la información marca una relación de clases jerárquica es altamente recomendable de usar, mientras no. Por el otro lado, se puede usar `One Hot Encoder` puesto que el resto de algoritmos tienen la capacidad de consumir la información en bloque y poder trabajarla.\n",
    "\n",
    "Si bien podemos tener un modelo que arroje un rendimiento óptimo, debemos tener cuidado cuando tengamos problemas de desbalance en nuestro set de datos pues esto puede generar tendencia de predicción hacia un resultado provocando la nula eficiencia del modelo. Para poder trabajar y evaluar el desempeño del modelo una vez se `balancean las clases` contamos con diferentes métricas que nos permiten darnos una idea de la calidad de predicción del modelo, tal es el caso de `recall`, `precision` y `f1`.\n",
    "\n",
    "Por último y con fines de explicación contamos con métodos que nos permiten identificar la efectividad del modelo en comparación con las predicciones de un modelo aleatorio, es decir, un modelo líneal; de manera visual, encontramos `ROC` que nos traza la curva de predicción de `Verdaderos Positivos` del modelo mientras que `AUC-ROC` permite medir el área bajo la curva anteriormente mencionada.\n",
    "\n",
    "En conclusión el módelo de clasificación `Bosques Aleatorios`, utilizando un técnica de balanceo de `ajuste de pesos de clases` nos proporciona una eficiencia del `82%` de predicción con una calidad del `87%` en comparación con un modelo aleatorio, arrojando un valor para `F1` de `0.6191`, lo que significa un balance considerablemente más elevado que el solo entrenar el modelo con la información preprocesada."
   ]
  }
 ],
 "metadata": {
  "kernelspec": {
   "display_name": "Python 3 (ipykernel)",
   "language": "python",
   "name": "python3"
  },
  "language_info": {
   "codemirror_mode": {
    "name": "ipython",
    "version": 3
   },
   "file_extension": ".py",
   "mimetype": "text/x-python",
   "name": "python",
   "nbconvert_exporter": "python",
   "pygments_lexer": "ipython3",
   "version": "3.9.7"
  },
  "toc": {
   "base_numbering": 1,
   "nav_menu": {},
   "number_sections": true,
   "sideBar": true,
   "skip_h1_title": false,
   "title_cell": "Table of Contents",
   "title_sidebar": "Contents",
   "toc_cell": false,
   "toc_position": {
    "height": "calc(100% - 180px)",
    "left": "10px",
    "top": "150px",
    "width": "286px"
   },
   "toc_section_display": true,
   "toc_window_display": true
  }
 },
 "nbformat": 4,
 "nbformat_minor": 5
}
